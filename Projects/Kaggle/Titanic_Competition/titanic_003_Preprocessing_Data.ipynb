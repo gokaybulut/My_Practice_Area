{
 "cells": [
  {
   "cell_type": "code",
   "execution_count": 21,
   "metadata": {},
   "outputs": [
    {
     "name": "stdout",
     "output_type": "stream",
     "text": [
      "<class 'pandas.core.frame.DataFrame'>\n",
      "Int64Index: 889 entries, 0 to 890\n",
      "Data columns (total 15 columns):\n",
      "PassengerId    889 non-null int64\n",
      "Survived       889 non-null int64\n",
      "Pclass         889 non-null int64\n",
      "Name           889 non-null object\n",
      "Sex            889 non-null category\n",
      "Age            889 non-null float64\n",
      "SibSp          889 non-null int64\n",
      "Parch          889 non-null int64\n",
      "Ticket         889 non-null object\n",
      "Fare           889 non-null float64\n",
      "Cabin          202 non-null object\n",
      "Embarked       889 non-null category\n",
      "Female         889 non-null uint8\n",
      "Embarked_C     889 non-null uint8\n",
      "Embarked_S     889 non-null uint8\n",
      "dtypes: category(2), float64(2), int64(5), object(3), uint8(3)\n",
      "memory usage: 80.9+ KB\n",
      "None\n"
     ]
    }
   ],
   "source": [
    "# Preprocessing\n",
    "\n",
    "# import pandas \n",
    "import pandas as pd\n",
    "\n",
    "# read training data to a DataFrame df\n",
    "df = pd.read_csv('train_titanic.csv')\n",
    "\n",
    "# drop misssing 'Embarked' values\n",
    "df = df.dropna(subset=['Embarked'])\n",
    "\n",
    "# fill in missing 'Age values'\n",
    "median_value = df['Age'].median()\n",
    "df['Age'] = df['Age'].fillna(median_value)\n",
    "\n",
    "# convert 'Sex' column type to category\n",
    "df['Sex'] = df['Sex'].astype('category')\n",
    "\n",
    "# Dummy variable encoding\n",
    "dummies = pd.get_dummies(df[['Sex']], prefix_sep = '_')\n",
    "\n",
    "# add new binary 'Female' column to df for numerical analysis\n",
    "#df = pd.concat([df, dummies], axis = 1)\n",
    "df['Female'] = dummies['Sex_female']\n",
    "\n",
    "# convert 'Embarked' column type to category\n",
    "df['Embarked'] = df['Embarked'].astype('category')\n",
    "\n",
    "# Dummy variable encoding\n",
    "dummies = pd.get_dummies(df[['Embarked']], prefix_sep = '_')\n",
    "\n",
    "# add new binary 'Embarked' columns to df for numerical analysis\n",
    "df['Embarked_C'] = dummies['Embarked_C']\n",
    "df['Embarked_S'] = dummies['Embarked_S']\n",
    "\n",
    "# preprocessing complete"
   ]
  },
  {
   "cell_type": "code",
   "execution_count": null,
   "metadata": {},
   "outputs": [],
   "source": []
  },
  {
   "cell_type": "code",
   "execution_count": null,
   "metadata": {},
   "outputs": [],
   "source": []
  }
 ],
 "metadata": {
  "kernelspec": {
   "display_name": "Python 3",
   "language": "python",
   "name": "python3"
  },
  "language_info": {
   "codemirror_mode": {
    "name": "ipython",
    "version": 3
   },
   "file_extension": ".py",
   "mimetype": "text/x-python",
   "name": "python",
   "nbconvert_exporter": "python",
   "pygments_lexer": "ipython3",
   "version": "3.7.3"
  }
 },
 "nbformat": 4,
 "nbformat_minor": 2
}
