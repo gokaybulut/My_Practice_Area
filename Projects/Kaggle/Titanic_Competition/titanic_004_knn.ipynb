{
 "cells": [
  {
   "cell_type": "code",
   "execution_count": 1,
   "metadata": {},
   "outputs": [
    {
     "name": "stdout",
     "output_type": "stream",
     "text": [
      "0.6629213483146067\n"
     ]
    }
   ],
   "source": [
    "# import  \n",
    "import pandas as pd\n",
    "from sklearn.model_selection import train_test_split \n",
    "from sklearn.neighbors import KNeighborsClassifier\n",
    "\n",
    "\n",
    "# read training data to a DataFrame df\n",
    "df = pd.read_csv('train_titanic.csv')\n",
    "\n",
    "# Preprocessing\n",
    "\n",
    "# drop misssing 'Embarked' values\n",
    "df = df.dropna(subset=['Embarked'])\n",
    "\n",
    "# fill in missing 'Age values'\n",
    "median_value = df['Age'].median()\n",
    "df['Age'] = df['Age'].fillna(median_value)\n",
    "\n",
    "# convert 'Sex' column type to category\n",
    "df['Sex'] = df['Sex'].astype('category')\n",
    "\n",
    "# Dummy variable encoding\n",
    "dummies = pd.get_dummies(df[['Sex']], prefix_sep = '_')\n",
    "\n",
    "# add new binary 'Female' column to df for numerical analysis\n",
    "#df = pd.concat([df, dummies], axis = 1)\n",
    "df['Female'] = dummies['Sex_female']\n",
    "\n",
    "# convert 'Embarked' column type to category\n",
    "df['Embarked'] = df['Embarked'].astype('category')\n",
    "\n",
    "# Dummy variable encoding\n",
    "dummies = pd.get_dummies(df[['Embarked']], prefix_sep = '_')\n",
    "\n",
    "# add new binary 'Embarked' columns to df for numerical analysis\n",
    "df['Embarked_C'] = dummies['Embarked_C']\n",
    "df['Embarked_S'] = dummies['Embarked_S']\n",
    "\n",
    "# Fitting a KNN model\n",
    "\n",
    "X = df.drop(['Survived', 'Name', 'Ticket', 'Cabin', 'Embarked', 'Sex'], axis = 1).values\n",
    "y = df['Survived'].values\n",
    "\n",
    "X_train, X_test, y_train, y_test = train_test_split(X, y, test_size = 0.3, \\\n",
    "                                                    random_state = 1, \\\n",
    "                                                    stratify = y)\n",
    "\n",
    "knn = KNeighborsClassifier(n_neighbors = 6)\n",
    "knn.fit(X_train, y_train)\n",
    "\n",
    "y_pred = knn.predict(X_test)\n",
    "\n",
    "print(knn.score(X_test, y_test))\n"
   ]
  },
  {
   "cell_type": "code",
   "execution_count": null,
   "metadata": {},
   "outputs": [],
   "source": []
  }
 ],
 "metadata": {
  "kernelspec": {
   "display_name": "Python 3",
   "language": "python",
   "name": "python3"
  },
  "language_info": {
   "codemirror_mode": {
    "name": "ipython",
    "version": 3
   },
   "file_extension": ".py",
   "mimetype": "text/x-python",
   "name": "python",
   "nbconvert_exporter": "python",
   "pygments_lexer": "ipython3",
   "version": "3.7.3"
  }
 },
 "nbformat": 4,
 "nbformat_minor": 2
}
