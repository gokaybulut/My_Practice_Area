{
 "cells": [
  {
   "cell_type": "code",
   "execution_count": 1,
   "metadata": {},
   "outputs": [
    {
     "name": "stdout",
     "output_type": "stream",
     "text": [
      "logreg 0.7865168539325843\n",
      "roc 0.8484254307783718\n",
      "cv_scores = [0.84639037 0.8315508  0.84879679 0.8434492  0.86913114]\n"
     ]
    },
    {
     "name": "stderr",
     "output_type": "stream",
     "text": [
      "C:\\Users\\john\\Anaconda3\\lib\\site-packages\\sklearn\\linear_model\\logistic.py:432: FutureWarning: Default solver will be changed to 'lbfgs' in 0.22. Specify a solver to silence this warning.\n",
      "  FutureWarning)\n",
      "C:\\Users\\john\\Anaconda3\\lib\\site-packages\\sklearn\\linear_model\\logistic.py:432: FutureWarning: Default solver will be changed to 'lbfgs' in 0.22. Specify a solver to silence this warning.\n",
      "  FutureWarning)\n",
      "C:\\Users\\john\\Anaconda3\\lib\\site-packages\\sklearn\\linear_model\\logistic.py:432: FutureWarning: Default solver will be changed to 'lbfgs' in 0.22. Specify a solver to silence this warning.\n",
      "  FutureWarning)\n",
      "C:\\Users\\john\\Anaconda3\\lib\\site-packages\\sklearn\\linear_model\\logistic.py:432: FutureWarning: Default solver will be changed to 'lbfgs' in 0.22. Specify a solver to silence this warning.\n",
      "  FutureWarning)\n",
      "C:\\Users\\john\\Anaconda3\\lib\\site-packages\\sklearn\\linear_model\\logistic.py:432: FutureWarning: Default solver will be changed to 'lbfgs' in 0.22. Specify a solver to silence this warning.\n",
      "  FutureWarning)\n",
      "C:\\Users\\john\\Anaconda3\\lib\\site-packages\\sklearn\\linear_model\\logistic.py:432: FutureWarning: Default solver will be changed to 'lbfgs' in 0.22. Specify a solver to silence this warning.\n",
      "  FutureWarning)\n"
     ]
    }
   ],
   "source": [
    "# import  \n",
    "import pandas as pd\n",
    "import numpy as np\n",
    "\n",
    "from sklearn.pipeline import Pipeline\n",
    "from sklearn.preprocessing import StandardScaler\n",
    "from sklearn.model_selection import train_test_split \n",
    "from sklearn.linear_model import LogisticRegression\n",
    "from sklearn.model_selection import cross_val_score\n",
    "from sklearn.metrics import roc_auc_score, classification_report, confusion_matrix\n",
    "\n",
    "# read training data to a DataFrame df\n",
    "df = pd.read_csv('train_titanic.csv')\n",
    "\n",
    "# Preprocessing\n",
    "\n",
    "# drop misssing 'Embarked' values\n",
    "df = df.dropna(subset=['Embarked'])\n",
    "\n",
    "# fill in missing 'Age values'\n",
    "median_value = df['Age'].median()\n",
    "df['Age'] = df['Age'].fillna(median_value)\n",
    "\n",
    "# convert 'Sex' column type to category\n",
    "df['Sex'] = df['Sex'].astype('category')\n",
    "\n",
    "# Dummy variable encoding\n",
    "dummies = pd.get_dummies(df[['Sex']], prefix_sep = '_')\n",
    "\n",
    "# add new binary 'Female' column to df for numerical analysis\n",
    "#df = pd.concat([df, dummies], axis = 1)\n",
    "df['Female'] = dummies['Sex_female']\n",
    "\n",
    "# convert 'Embarked' column type to category\n",
    "df['Embarked'] = df['Embarked'].astype('category')\n",
    "\n",
    "# Dummy variable encoding\n",
    "dummies = pd.get_dummies(df[['Embarked']], prefix_sep = '_')\n",
    "\n",
    "# add new binary 'Embarked' columns to df for numerical analysis\n",
    "df['Embarked_C'] = dummies['Embarked_C']\n",
    "df['Embarked_S'] = dummies['Embarked_S']\n",
    "\n",
    "# Fitting a KNN model\n",
    "\n",
    "X = df.drop(['Survived', 'Name', 'Ticket', 'Cabin', 'Embarked', 'Sex'], axis = 1).values\n",
    "y = df['Survived'].values\n",
    "\n",
    "\n",
    "logreg = LogisticRegression()\n",
    "steps = [\n",
    "        ('scaler', StandardScaler()),\n",
    "        ('logistic_regression', logreg)]\n",
    "pipeline = Pipeline(steps)\n",
    "\n",
    "X_train, X_test, y_train, y_test = train_test_split(X, y, test_size = 0.3, \\\n",
    "                                                    random_state = 1, \\\n",
    "                                                    stratify = y)\n",
    "\n",
    "pipeline.fit(X_train, y_train)\n",
    "\n",
    "y_pred_prob = pipeline.predict_proba(X_test)[:, 1]\n",
    "\n",
    "print('logreg', pipeline.score(X_test, y_test))\n",
    "print('roc', roc_auc_score(y_test, y_pred_prob))\n",
    "print('cv_scores =', cross_val_score(logreg, X, y, cv = 5, scoring = 'roc_auc'))\n",
    "\n",
    "\n"
   ]
  },
  {
   "cell_type": "code",
   "execution_count": null,
   "metadata": {},
   "outputs": [],
   "source": []
  }
 ],
 "metadata": {
  "kernelspec": {
   "display_name": "Python 3",
   "language": "python",
   "name": "python3"
  },
  "language_info": {
   "codemirror_mode": {
    "name": "ipython",
    "version": 3
   },
   "file_extension": ".py",
   "mimetype": "text/x-python",
   "name": "python",
   "nbconvert_exporter": "python",
   "pygments_lexer": "ipython3",
   "version": "3.7.3"
  }
 },
 "nbformat": 4,
 "nbformat_minor": 2
}
