{
 "cells": [
  {
   "cell_type": "markdown",
   "metadata": {},
   "source": [
    "# SENTIMENT ANALYSIS PROJECT"
   ]
  },
  {
   "cell_type": "markdown",
   "metadata": {},
   "source": [
    "## 1. Introduction"
   ]
  },
  {
   "cell_type": "markdown",
   "metadata": {},
   "source": [
    "Here, we are going to analyze the review of beauty products sold at Amazon in 2004-2018. The data is  retrieved from Stanford University SNAP website at link: http://deepx.ucsd.edu/public/jianmo/amazon/categoryFilesSmall/All_Beauty_5.json.gz. We will start with importing necessary libraries and reading the data into a DataFrame."
   ]
  },
  {
   "cell_type": "code",
   "execution_count": 1,
   "metadata": {},
   "outputs": [],
   "source": [
    "# import necessary libraries\n",
    "\n",
    "import pandas as pd\n",
    "import gzip\n",
    "import json\n",
    "\n",
    "import datetime as dt\n",
    "\n",
    "import seaborn as sns\n",
    "import matplotlib.pyplot as plt\n",
    "\n",
    "import nltk\n",
    "#nltk.download('punkt')\n",
    "#nltk.download('wordnet')\n",
    "#nltk.download('stopwords')\n",
    "\n",
    "from nltk.corpus import stopwords\n",
    "from bs4 import BeautifulSoup\n",
    "import unicodedata\n",
    "#import contractions\n",
    "from nltk.stem import WordNetLemmatizer\n",
    "from nltk.tokenize import word_tokenize, sent_tokenize, regexp_tokenize \n",
    "from nltk.stem import PorterStemmer, WordNetLemmatizer\n",
    "import re\n",
    "\n",
    "\n",
    "from wordcloud import WordCloud\n",
    "from sklearn.feature_extraction.text import TfidfVectorizer, ENGLISH_STOP_WORDS\n",
    "\n",
    "from sklearn.linear_model import LogisticRegression\n",
    "from sklearn.model_selection import train_test_split\n",
    "from sklearn.metrics import accuracy_score, confusion_matrix"
   ]
  },
  {
   "cell_type": "code",
   "execution_count": 2,
   "metadata": {},
   "outputs": [],
   "source": [
    "# unzip and read the data into a DataFrame\n",
    "\n",
    "def parse(path):\n",
    "  g = gzip.open(path, 'rb')\n",
    "  for l in g:\n",
    "    yield json.loads(l)\n",
    "\n",
    "def getDF(path):\n",
    "  i = 0\n",
    "  df = {}\n",
    "  for d in parse(path):\n",
    "    df[i] = d\n",
    "    i += 1\n",
    "  return pd.DataFrame.from_dict(df, orient='index')\n",
    "\n",
    "df = getDF('All_Beauty_5.json.gz')"
   ]
  },
  {
   "cell_type": "markdown",
   "metadata": {},
   "source": [
    "## 2. Data Wrangling"
   ]
  },
  {
   "cell_type": "markdown",
   "metadata": {},
   "source": [
    "Let's first check 10 random rows of the dataset."
   ]
  },
  {
   "cell_type": "code",
   "execution_count": 3,
   "metadata": {},
   "outputs": [
    {
     "data": {
      "text/html": [
       "<div>\n",
       "<style scoped>\n",
       "    .dataframe tbody tr th:only-of-type {\n",
       "        vertical-align: middle;\n",
       "    }\n",
       "\n",
       "    .dataframe tbody tr th {\n",
       "        vertical-align: top;\n",
       "    }\n",
       "\n",
       "    .dataframe thead th {\n",
       "        text-align: right;\n",
       "    }\n",
       "</style>\n",
       "<table border=\"1\" class=\"dataframe\">\n",
       "  <thead>\n",
       "    <tr style=\"text-align: right;\">\n",
       "      <th></th>\n",
       "      <th>overall</th>\n",
       "      <th>verified</th>\n",
       "      <th>reviewTime</th>\n",
       "      <th>reviewerID</th>\n",
       "      <th>asin</th>\n",
       "      <th>style</th>\n",
       "      <th>reviewerName</th>\n",
       "      <th>reviewText</th>\n",
       "      <th>summary</th>\n",
       "      <th>unixReviewTime</th>\n",
       "      <th>vote</th>\n",
       "      <th>image</th>\n",
       "    </tr>\n",
       "  </thead>\n",
       "  <tbody>\n",
       "    <tr>\n",
       "      <td>1247</td>\n",
       "      <td>5.0</td>\n",
       "      <td>False</td>\n",
       "      <td>09 5, 2012</td>\n",
       "      <td>A2LY3LPGRERLPW</td>\n",
       "      <td>B000FI4S1E</td>\n",
       "      <td>NaN</td>\n",
       "      <td>finicky buyer</td>\n",
       "      <td>I had a hard time finding this product in the ...</td>\n",
       "      <td>another love for St. Ives</td>\n",
       "      <td>1346803200</td>\n",
       "      <td>NaN</td>\n",
       "      <td>NaN</td>\n",
       "    </tr>\n",
       "    <tr>\n",
       "      <td>1084</td>\n",
       "      <td>5.0</td>\n",
       "      <td>True</td>\n",
       "      <td>12 8, 2014</td>\n",
       "      <td>A2KA5PR2AKM7ZU</td>\n",
       "      <td>B000FI4S1E</td>\n",
       "      <td>NaN</td>\n",
       "      <td>susanb1222</td>\n",
       "      <td>The price for an Hermes product is the best</td>\n",
       "      <td>Five Stars</td>\n",
       "      <td>1417996800</td>\n",
       "      <td>NaN</td>\n",
       "      <td>NaN</td>\n",
       "    </tr>\n",
       "    <tr>\n",
       "      <td>860</td>\n",
       "      <td>5.0</td>\n",
       "      <td>False</td>\n",
       "      <td>11 11, 2012</td>\n",
       "      <td>ACA81N25RHH2N</td>\n",
       "      <td>B0009RF9DW</td>\n",
       "      <td>{'Size:': ' 8'}</td>\n",
       "      <td>L Lovera</td>\n",
       "      <td>Don't just take my word for it, you must try i...</td>\n",
       "      <td>Spa in a bottle</td>\n",
       "      <td>1352592000</td>\n",
       "      <td>NaN</td>\n",
       "      <td>NaN</td>\n",
       "    </tr>\n",
       "    <tr>\n",
       "      <td>2535</td>\n",
       "      <td>5.0</td>\n",
       "      <td>True</td>\n",
       "      <td>05 6, 2016</td>\n",
       "      <td>A2KV46HMWY1YWB</td>\n",
       "      <td>B0012Y0ZG2</td>\n",
       "      <td>{'Size:': ' 586'}</td>\n",
       "      <td>Kindle Customer</td>\n",
       "      <td>Smells wonderful. Feels great on hands and arm...</td>\n",
       "      <td>Must have product</td>\n",
       "      <td>1462492800</td>\n",
       "      <td>NaN</td>\n",
       "      <td>NaN</td>\n",
       "    </tr>\n",
       "    <tr>\n",
       "      <td>702</td>\n",
       "      <td>5.0</td>\n",
       "      <td>True</td>\n",
       "      <td>11 28, 2014</td>\n",
       "      <td>A13B2J5IBGS8Y2</td>\n",
       "      <td>B0009RF9DW</td>\n",
       "      <td>{'Size:': ' 22'}</td>\n",
       "      <td>Pam</td>\n",
       "      <td>Love this-but believe it is no longer availabl...</td>\n",
       "      <td>Five Stars</td>\n",
       "      <td>1417132800</td>\n",
       "      <td>NaN</td>\n",
       "      <td>NaN</td>\n",
       "    </tr>\n",
       "    <tr>\n",
       "      <td>4616</td>\n",
       "      <td>4.0</td>\n",
       "      <td>True</td>\n",
       "      <td>06 28, 2014</td>\n",
       "      <td>A3KHIT48AYHC0L</td>\n",
       "      <td>B001OHV1H4</td>\n",
       "      <td>{'Size:': ' 5'}</td>\n",
       "      <td>DLB</td>\n",
       "      <td>Have used this product for the past 7 months. ...</td>\n",
       "      <td>H2O+ aquatics natural shampoo</td>\n",
       "      <td>1403913600</td>\n",
       "      <td>NaN</td>\n",
       "      <td>NaN</td>\n",
       "    </tr>\n",
       "    <tr>\n",
       "      <td>434</td>\n",
       "      <td>5.0</td>\n",
       "      <td>True</td>\n",
       "      <td>12 20, 2013</td>\n",
       "      <td>AZJMUP77WBQZQ</td>\n",
       "      <td>B00006L9LC</td>\n",
       "      <td>{'Size:': ' 329'}</td>\n",
       "      <td>S. Foote</td>\n",
       "      <td>THIS WAS A GIFT PURCHASED LAST YEAR FOR MY DAU...</td>\n",
       "      <td>GIFT</td>\n",
       "      <td>1387497600</td>\n",
       "      <td>NaN</td>\n",
       "      <td>NaN</td>\n",
       "    </tr>\n",
       "    <tr>\n",
       "      <td>5103</td>\n",
       "      <td>5.0</td>\n",
       "      <td>False</td>\n",
       "      <td>05 12, 2018</td>\n",
       "      <td>AUS96J3A7A9MK</td>\n",
       "      <td>B00006L9LC</td>\n",
       "      <td>{'Size:': ' Small'}</td>\n",
       "      <td>Kirk Wiper</td>\n",
       "      <td>Got both products from this seller, shampoo an...</td>\n",
       "      <td>Selenium is awesome!</td>\n",
       "      <td>1526083200</td>\n",
       "      <td>NaN</td>\n",
       "      <td>NaN</td>\n",
       "    </tr>\n",
       "    <tr>\n",
       "      <td>2377</td>\n",
       "      <td>5.0</td>\n",
       "      <td>True</td>\n",
       "      <td>02 15, 2017</td>\n",
       "      <td>A14R11HV2H7AVW</td>\n",
       "      <td>B0012Y0ZG2</td>\n",
       "      <td>{'Size:': ' 1 Pound'}</td>\n",
       "      <td>Diane Gordon</td>\n",
       "      <td>Also a very good product</td>\n",
       "      <td>Five Stars</td>\n",
       "      <td>1487116800</td>\n",
       "      <td>NaN</td>\n",
       "      <td>NaN</td>\n",
       "    </tr>\n",
       "    <tr>\n",
       "      <td>2914</td>\n",
       "      <td>5.0</td>\n",
       "      <td>True</td>\n",
       "      <td>05 24, 2014</td>\n",
       "      <td>A24OO89UB5PY7J</td>\n",
       "      <td>B0012Y0ZG2</td>\n",
       "      <td>{'Size:': ' 179'}</td>\n",
       "      <td>JD</td>\n",
       "      <td>I have been buying this body wash for abut a y...</td>\n",
       "      <td>Simple Clean</td>\n",
       "      <td>1400889600</td>\n",
       "      <td>NaN</td>\n",
       "      <td>NaN</td>\n",
       "    </tr>\n",
       "  </tbody>\n",
       "</table>\n",
       "</div>"
      ],
      "text/plain": [
       "      overall  verified   reviewTime      reviewerID        asin  \\\n",
       "1247      5.0     False   09 5, 2012  A2LY3LPGRERLPW  B000FI4S1E   \n",
       "1084      5.0      True   12 8, 2014  A2KA5PR2AKM7ZU  B000FI4S1E   \n",
       "860       5.0     False  11 11, 2012   ACA81N25RHH2N  B0009RF9DW   \n",
       "2535      5.0      True   05 6, 2016  A2KV46HMWY1YWB  B0012Y0ZG2   \n",
       "702       5.0      True  11 28, 2014  A13B2J5IBGS8Y2  B0009RF9DW   \n",
       "4616      4.0      True  06 28, 2014  A3KHIT48AYHC0L  B001OHV1H4   \n",
       "434       5.0      True  12 20, 2013   AZJMUP77WBQZQ  B00006L9LC   \n",
       "5103      5.0     False  05 12, 2018   AUS96J3A7A9MK  B00006L9LC   \n",
       "2377      5.0      True  02 15, 2017  A14R11HV2H7AVW  B0012Y0ZG2   \n",
       "2914      5.0      True  05 24, 2014  A24OO89UB5PY7J  B0012Y0ZG2   \n",
       "\n",
       "                      style     reviewerName  \\\n",
       "1247                    NaN    finicky buyer   \n",
       "1084                    NaN       susanb1222   \n",
       "860         {'Size:': ' 8'}         L Lovera   \n",
       "2535      {'Size:': ' 586'}  Kindle Customer   \n",
       "702        {'Size:': ' 22'}              Pam   \n",
       "4616        {'Size:': ' 5'}              DLB   \n",
       "434       {'Size:': ' 329'}         S. Foote   \n",
       "5103    {'Size:': ' Small'}       Kirk Wiper   \n",
       "2377  {'Size:': ' 1 Pound'}     Diane Gordon   \n",
       "2914      {'Size:': ' 179'}               JD   \n",
       "\n",
       "                                             reviewText  \\\n",
       "1247  I had a hard time finding this product in the ...   \n",
       "1084        The price for an Hermes product is the best   \n",
       "860   Don't just take my word for it, you must try i...   \n",
       "2535  Smells wonderful. Feels great on hands and arm...   \n",
       "702   Love this-but believe it is no longer availabl...   \n",
       "4616  Have used this product for the past 7 months. ...   \n",
       "434   THIS WAS A GIFT PURCHASED LAST YEAR FOR MY DAU...   \n",
       "5103  Got both products from this seller, shampoo an...   \n",
       "2377                           Also a very good product   \n",
       "2914  I have been buying this body wash for abut a y...   \n",
       "\n",
       "                            summary  unixReviewTime vote image  \n",
       "1247      another love for St. Ives      1346803200  NaN   NaN  \n",
       "1084                     Five Stars      1417996800  NaN   NaN  \n",
       "860                 Spa in a bottle      1352592000  NaN   NaN  \n",
       "2535              Must have product      1462492800  NaN   NaN  \n",
       "702                      Five Stars      1417132800  NaN   NaN  \n",
       "4616  H2O+ aquatics natural shampoo      1403913600  NaN   NaN  \n",
       "434                            GIFT      1387497600  NaN   NaN  \n",
       "5103           Selenium is awesome!      1526083200  NaN   NaN  \n",
       "2377                     Five Stars      1487116800  NaN   NaN  \n",
       "2914                   Simple Clean      1400889600  NaN   NaN  "
      ]
     },
     "execution_count": 3,
     "metadata": {},
     "output_type": "execute_result"
    }
   ],
   "source": [
    "df.sample(10)"
   ]
  },
  {
   "cell_type": "markdown",
   "metadata": {},
   "source": [
    "We will get some more information with the info method."
   ]
  },
  {
   "cell_type": "code",
   "execution_count": 4,
   "metadata": {},
   "outputs": [
    {
     "name": "stdout",
     "output_type": "stream",
     "text": [
      "<class 'pandas.core.frame.DataFrame'>\n",
      "Int64Index: 5269 entries, 0 to 5268\n",
      "Data columns (total 12 columns):\n",
      "overall           5269 non-null float64\n",
      "verified          5269 non-null bool\n",
      "reviewTime        5269 non-null object\n",
      "reviewerID        5269 non-null object\n",
      "asin              5269 non-null object\n",
      "style             4624 non-null object\n",
      "reviewerName      5269 non-null object\n",
      "reviewText        5264 non-null object\n",
      "summary           5264 non-null object\n",
      "unixReviewTime    5269 non-null int64\n",
      "vote              552 non-null object\n",
      "image             98 non-null object\n",
      "dtypes: bool(1), float64(1), int64(1), object(9)\n",
      "memory usage: 499.1+ KB\n"
     ]
    }
   ],
   "source": [
    "df.info()"
   ]
  },
  {
   "cell_type": "markdown",
   "metadata": {},
   "source": [
    "There are 5269 rows and 12 columns in the dataset. We have 9 columns of datatype string, 2 numerical columns and a column of datatype boolean. Columns 'style', 'summary', 'vote' and 'image' have missing values. The columns are:\n",
    "\n",
    "1. overall - rating of the product\n",
    "2. verified - no explanation at source\n",
    "3. reviewTime - time of the review (raw)\n",
    "4. reviewerID - ID of the reviewer, e.g. A2SUAM1J3GNN3B\n",
    "5. asin - ID of the product, e.g. 0000013714\n",
    "6. style - a disctionary of the product metadata, e.g., \"Format\" is \"Hardcover\"\n",
    "7. reviewerName - name of the reviewer\n",
    "8. reviewText - text of the review\n",
    "9. summary - summary of the review\n",
    "10. unixReviewTime - time of the review (unix time)\n",
    "11. vote - helpful votes of the review\n",
    "12. image - no explanation at source\n",
    "\n",
    "Let's see how many entries are missing from each column:"
   ]
  },
  {
   "cell_type": "code",
   "execution_count": 5,
   "metadata": {},
   "outputs": [
    {
     "data": {
      "text/plain": [
       "overall              0\n",
       "verified             0\n",
       "reviewTime           0\n",
       "reviewerID           0\n",
       "asin                 0\n",
       "style              645\n",
       "reviewerName         0\n",
       "reviewText           5\n",
       "summary              5\n",
       "unixReviewTime       0\n",
       "vote              4717\n",
       "image             5171\n",
       "dtype: int64"
      ]
     },
     "execution_count": 5,
     "metadata": {},
     "output_type": "execute_result"
    }
   ],
   "source": [
    "df.isnull().sum()"
   ]
  },
  {
   "cell_type": "markdown",
   "metadata": {},
   "source": [
    "We will check if column names have any white spaces that will interfere with our analysis:"
   ]
  },
  {
   "cell_type": "code",
   "execution_count": 6,
   "metadata": {},
   "outputs": [
    {
     "data": {
      "text/plain": [
       "Index(['overall', 'verified', 'reviewTime', 'reviewerID', 'asin', 'style',\n",
       "       'reviewerName', 'reviewText', 'summary', 'unixReviewTime', 'vote',\n",
       "       'image'],\n",
       "      dtype='object')"
      ]
     },
     "execution_count": 6,
     "metadata": {},
     "output_type": "execute_result"
    }
   ],
   "source": [
    "df.columns"
   ]
  },
  {
   "cell_type": "markdown",
   "metadata": {},
   "source": [
    "Column names don't have any white spaces. We will first drop 'vote' and 'image' columns since most of their values are missing. Further, the 'verified' column doesn't provide any useful information for our analysis. We are not interested in the 'reviewerName' and we have a 'reviewerID' column to track the reviewers. Similarly, we don't need the 'style' column since we have the 'asin' column to track the products. So, we will also drop the columns 'verified', 'reviewerName' and 'style'."
   ]
  },
  {
   "cell_type": "code",
   "execution_count": 7,
   "metadata": {},
   "outputs": [
    {
     "data": {
      "text/html": [
       "<div>\n",
       "<style scoped>\n",
       "    .dataframe tbody tr th:only-of-type {\n",
       "        vertical-align: middle;\n",
       "    }\n",
       "\n",
       "    .dataframe tbody tr th {\n",
       "        vertical-align: top;\n",
       "    }\n",
       "\n",
       "    .dataframe thead th {\n",
       "        text-align: right;\n",
       "    }\n",
       "</style>\n",
       "<table border=\"1\" class=\"dataframe\">\n",
       "  <thead>\n",
       "    <tr style=\"text-align: right;\">\n",
       "      <th></th>\n",
       "      <th>overall</th>\n",
       "      <th>reviewTime</th>\n",
       "      <th>reviewerID</th>\n",
       "      <th>asin</th>\n",
       "      <th>reviewText</th>\n",
       "      <th>summary</th>\n",
       "      <th>unixReviewTime</th>\n",
       "    </tr>\n",
       "  </thead>\n",
       "  <tbody>\n",
       "    <tr>\n",
       "      <td>0</td>\n",
       "      <td>5.0</td>\n",
       "      <td>09 1, 2016</td>\n",
       "      <td>A3CIUOJXQ5VDQ2</td>\n",
       "      <td>B0000530HU</td>\n",
       "      <td>As advertised. Reasonably priced</td>\n",
       "      <td>Five Stars</td>\n",
       "      <td>1472688000</td>\n",
       "    </tr>\n",
       "    <tr>\n",
       "      <td>1</td>\n",
       "      <td>5.0</td>\n",
       "      <td>11 14, 2013</td>\n",
       "      <td>A3H7T87S984REU</td>\n",
       "      <td>B0000530HU</td>\n",
       "      <td>Like the oder and the feel when I put it on my...</td>\n",
       "      <td>Good for the face</td>\n",
       "      <td>1384387200</td>\n",
       "    </tr>\n",
       "    <tr>\n",
       "      <td>2</td>\n",
       "      <td>1.0</td>\n",
       "      <td>08 18, 2013</td>\n",
       "      <td>A3J034YH7UG4KT</td>\n",
       "      <td>B0000530HU</td>\n",
       "      <td>I bought this to smell nice after I shave.  Wh...</td>\n",
       "      <td>Smells awful</td>\n",
       "      <td>1376784000</td>\n",
       "    </tr>\n",
       "    <tr>\n",
       "      <td>3</td>\n",
       "      <td>5.0</td>\n",
       "      <td>05 3, 2011</td>\n",
       "      <td>A2UEO5XR3598GI</td>\n",
       "      <td>B0000530HU</td>\n",
       "      <td>HEY!! I am an Aqua Velva Man and absolutely lo...</td>\n",
       "      <td>Truth is There IS Nothing Like an AQUA VELVA MAN.</td>\n",
       "      <td>1304380800</td>\n",
       "    </tr>\n",
       "    <tr>\n",
       "      <td>4</td>\n",
       "      <td>5.0</td>\n",
       "      <td>05 6, 2011</td>\n",
       "      <td>A3SFRT223XXWF7</td>\n",
       "      <td>B00006L9LC</td>\n",
       "      <td>If you ever want to feel pampered by a shampoo...</td>\n",
       "      <td>Bvlgari Shampoo</td>\n",
       "      <td>1304640000</td>\n",
       "    </tr>\n",
       "  </tbody>\n",
       "</table>\n",
       "</div>"
      ],
      "text/plain": [
       "   overall   reviewTime      reviewerID        asin  \\\n",
       "0      5.0   09 1, 2016  A3CIUOJXQ5VDQ2  B0000530HU   \n",
       "1      5.0  11 14, 2013  A3H7T87S984REU  B0000530HU   \n",
       "2      1.0  08 18, 2013  A3J034YH7UG4KT  B0000530HU   \n",
       "3      5.0   05 3, 2011  A2UEO5XR3598GI  B0000530HU   \n",
       "4      5.0   05 6, 2011  A3SFRT223XXWF7  B00006L9LC   \n",
       "\n",
       "                                          reviewText  \\\n",
       "0                   As advertised. Reasonably priced   \n",
       "1  Like the oder and the feel when I put it on my...   \n",
       "2  I bought this to smell nice after I shave.  Wh...   \n",
       "3  HEY!! I am an Aqua Velva Man and absolutely lo...   \n",
       "4  If you ever want to feel pampered by a shampoo...   \n",
       "\n",
       "                                             summary  unixReviewTime  \n",
       "0                                         Five Stars      1472688000  \n",
       "1                                  Good for the face      1384387200  \n",
       "2                                       Smells awful      1376784000  \n",
       "3  Truth is There IS Nothing Like an AQUA VELVA MAN.      1304380800  \n",
       "4                                    Bvlgari Shampoo      1304640000  "
      ]
     },
     "execution_count": 7,
     "metadata": {},
     "output_type": "execute_result"
    }
   ],
   "source": [
    "df.drop(['vote', 'image', 'verified', 'reviewerName', 'style'], axis = 1, inplace = True)\n",
    "\n",
    "# check the first rows of the new DataFrame\n",
    "df.head()"
   ]
  },
  {
   "cell_type": "markdown",
   "metadata": {},
   "source": [
    "We will combine two string columns into one: 'summary and reviewText'. We will fill the missing values with an empty string so that we can keep the value of one column if the other has a missing value. "
   ]
  },
  {
   "cell_type": "code",
   "execution_count": 8,
   "metadata": {},
   "outputs": [
    {
     "data": {
      "text/plain": [
       "\"If you ever want to feel pampered by a shampoo this one is the one.  It smells like a wonderful perfume and cleans your hair until it shines plus adding a fullness that most other shampoo's don't give you.  It is expensive, but worth it! Bvlgari Shampoo\""
      ]
     },
     "execution_count": 8,
     "metadata": {},
     "output_type": "execute_result"
    }
   ],
   "source": [
    "df['reviewText'] = df['reviewText'].fillna('') + ' ' + df['summary'].fillna('')\n",
    "\n",
    "#check the 5th row of 'reviewText' so that we can compare with the table above \n",
    "df['reviewText'][4]\n"
   ]
  },
  {
   "cell_type": "markdown",
   "metadata": {},
   "source": [
    "Let's check if the 'reviewText' column still has any missing values after combining with 'summary'. "
   ]
  },
  {
   "cell_type": "code",
   "execution_count": 9,
   "metadata": {},
   "outputs": [
    {
     "data": {
      "text/plain": [
       "0"
      ]
     },
     "execution_count": 9,
     "metadata": {},
     "output_type": "execute_result"
    }
   ],
   "source": [
    "df['reviewText'].isnull().sum()"
   ]
  },
  {
   "cell_type": "markdown",
   "metadata": {},
   "source": [
    "We were able to fill in the missing values of the two columns with each other because the missing values were at different rows. Now, let's convert 'reviewTime' to datetime object to have a more 'user-friendly' column."
   ]
  },
  {
   "cell_type": "code",
   "execution_count": 10,
   "metadata": {},
   "outputs": [
    {
     "data": {
      "text/html": [
       "<div>\n",
       "<style scoped>\n",
       "    .dataframe tbody tr th:only-of-type {\n",
       "        vertical-align: middle;\n",
       "    }\n",
       "\n",
       "    .dataframe tbody tr th {\n",
       "        vertical-align: top;\n",
       "    }\n",
       "\n",
       "    .dataframe thead th {\n",
       "        text-align: right;\n",
       "    }\n",
       "</style>\n",
       "<table border=\"1\" class=\"dataframe\">\n",
       "  <thead>\n",
       "    <tr style=\"text-align: right;\">\n",
       "      <th></th>\n",
       "      <th>overall</th>\n",
       "      <th>reviewTime</th>\n",
       "      <th>reviewerID</th>\n",
       "      <th>asin</th>\n",
       "      <th>reviewText</th>\n",
       "      <th>summary</th>\n",
       "      <th>unixReviewTime</th>\n",
       "    </tr>\n",
       "  </thead>\n",
       "  <tbody>\n",
       "    <tr>\n",
       "      <td>5174</td>\n",
       "      <td>5.0</td>\n",
       "      <td>2015-11-11</td>\n",
       "      <td>A156IOMOA59X7N</td>\n",
       "      <td>B00CQ0LN80</td>\n",
       "      <td>I always use this so was as expected Five Stars</td>\n",
       "      <td>Five Stars</td>\n",
       "      <td>1447200000</td>\n",
       "    </tr>\n",
       "    <tr>\n",
       "      <td>605</td>\n",
       "      <td>5.0</td>\n",
       "      <td>2016-02-13</td>\n",
       "      <td>A39WH9DUE96U1P</td>\n",
       "      <td>B0009RF9DW</td>\n",
       "      <td>The best soaking liquid you'll find.  I lived ...</td>\n",
       "      <td>Best soaking liquid ever.</td>\n",
       "      <td>1455321600</td>\n",
       "    </tr>\n",
       "    <tr>\n",
       "      <td>1849</td>\n",
       "      <td>5.0</td>\n",
       "      <td>2015-03-24</td>\n",
       "      <td>A71OPGFA90NJL</td>\n",
       "      <td>B000URXP6E</td>\n",
       "      <td>Love love love. I've got sensitive skin and I ...</td>\n",
       "      <td>Love.</td>\n",
       "      <td>1427155200</td>\n",
       "    </tr>\n",
       "    <tr>\n",
       "      <td>4768</td>\n",
       "      <td>5.0</td>\n",
       "      <td>2014-08-11</td>\n",
       "      <td>A914TQVHI872U</td>\n",
       "      <td>B00EYZY6LQ</td>\n",
       "      <td>This Fekkai conditioning mousse impressed.\\n\\n...</td>\n",
       "      <td>Very special...definitely and positively a win...</td>\n",
       "      <td>1407715200</td>\n",
       "    </tr>\n",
       "    <tr>\n",
       "      <td>2066</td>\n",
       "      <td>5.0</td>\n",
       "      <td>2013-10-18</td>\n",
       "      <td>A2MTXSVB9MC8IO</td>\n",
       "      <td>B000URXP6E</td>\n",
       "      <td>Matrix Biolage Fortifying conditioner is excel...</td>\n",
       "      <td>Love it! Leaves my hair smooth and strong</td>\n",
       "      <td>1382054400</td>\n",
       "    </tr>\n",
       "  </tbody>\n",
       "</table>\n",
       "</div>"
      ],
      "text/plain": [
       "      overall reviewTime      reviewerID        asin  \\\n",
       "5174      5.0 2015-11-11  A156IOMOA59X7N  B00CQ0LN80   \n",
       "605       5.0 2016-02-13  A39WH9DUE96U1P  B0009RF9DW   \n",
       "1849      5.0 2015-03-24   A71OPGFA90NJL  B000URXP6E   \n",
       "4768      5.0 2014-08-11   A914TQVHI872U  B00EYZY6LQ   \n",
       "2066      5.0 2013-10-18  A2MTXSVB9MC8IO  B000URXP6E   \n",
       "\n",
       "                                             reviewText  \\\n",
       "5174    I always use this so was as expected Five Stars   \n",
       "605   The best soaking liquid you'll find.  I lived ...   \n",
       "1849  Love love love. I've got sensitive skin and I ...   \n",
       "4768  This Fekkai conditioning mousse impressed.\\n\\n...   \n",
       "2066  Matrix Biolage Fortifying conditioner is excel...   \n",
       "\n",
       "                                                summary  unixReviewTime  \n",
       "5174                                         Five Stars      1447200000  \n",
       "605                           Best soaking liquid ever.      1455321600  \n",
       "1849                                              Love.      1427155200  \n",
       "4768  Very special...definitely and positively a win...      1407715200  \n",
       "2066          Love it! Leaves my hair smooth and strong      1382054400  "
      ]
     },
     "execution_count": 10,
     "metadata": {},
     "output_type": "execute_result"
    }
   ],
   "source": [
    "df['reviewTime'] = pd.to_datetime(df['reviewTime'])\n",
    "\n",
    "# check random 5 rows to see the new 'reviewTime'\n",
    "df.sample(5)"
   ]
  },
  {
   "cell_type": "markdown",
   "metadata": {},
   "source": [
    "Now that we added the column 'summary' to the column 'reviewText' and have a more 'user-friendly' time column, we can also drop the redundant columns 'summary' and 'unixReviewTime'. "
   ]
  },
  {
   "cell_type": "code",
   "execution_count": 11,
   "metadata": {},
   "outputs": [
    {
     "data": {
      "text/html": [
       "<div>\n",
       "<style scoped>\n",
       "    .dataframe tbody tr th:only-of-type {\n",
       "        vertical-align: middle;\n",
       "    }\n",
       "\n",
       "    .dataframe tbody tr th {\n",
       "        vertical-align: top;\n",
       "    }\n",
       "\n",
       "    .dataframe thead th {\n",
       "        text-align: right;\n",
       "    }\n",
       "</style>\n",
       "<table border=\"1\" class=\"dataframe\">\n",
       "  <thead>\n",
       "    <tr style=\"text-align: right;\">\n",
       "      <th></th>\n",
       "      <th>overall</th>\n",
       "      <th>reviewTime</th>\n",
       "      <th>reviewerID</th>\n",
       "      <th>asin</th>\n",
       "      <th>reviewText</th>\n",
       "    </tr>\n",
       "  </thead>\n",
       "  <tbody>\n",
       "    <tr>\n",
       "      <td>0</td>\n",
       "      <td>5.0</td>\n",
       "      <td>2016-09-01</td>\n",
       "      <td>A3CIUOJXQ5VDQ2</td>\n",
       "      <td>B0000530HU</td>\n",
       "      <td>As advertised. Reasonably priced Five Stars</td>\n",
       "    </tr>\n",
       "    <tr>\n",
       "      <td>1</td>\n",
       "      <td>5.0</td>\n",
       "      <td>2013-11-14</td>\n",
       "      <td>A3H7T87S984REU</td>\n",
       "      <td>B0000530HU</td>\n",
       "      <td>Like the oder and the feel when I put it on my...</td>\n",
       "    </tr>\n",
       "    <tr>\n",
       "      <td>2</td>\n",
       "      <td>1.0</td>\n",
       "      <td>2013-08-18</td>\n",
       "      <td>A3J034YH7UG4KT</td>\n",
       "      <td>B0000530HU</td>\n",
       "      <td>I bought this to smell nice after I shave.  Wh...</td>\n",
       "    </tr>\n",
       "    <tr>\n",
       "      <td>3</td>\n",
       "      <td>5.0</td>\n",
       "      <td>2011-05-03</td>\n",
       "      <td>A2UEO5XR3598GI</td>\n",
       "      <td>B0000530HU</td>\n",
       "      <td>HEY!! I am an Aqua Velva Man and absolutely lo...</td>\n",
       "    </tr>\n",
       "    <tr>\n",
       "      <td>4</td>\n",
       "      <td>5.0</td>\n",
       "      <td>2011-05-06</td>\n",
       "      <td>A3SFRT223XXWF7</td>\n",
       "      <td>B00006L9LC</td>\n",
       "      <td>If you ever want to feel pampered by a shampoo...</td>\n",
       "    </tr>\n",
       "  </tbody>\n",
       "</table>\n",
       "</div>"
      ],
      "text/plain": [
       "   overall reviewTime      reviewerID        asin  \\\n",
       "0      5.0 2016-09-01  A3CIUOJXQ5VDQ2  B0000530HU   \n",
       "1      5.0 2013-11-14  A3H7T87S984REU  B0000530HU   \n",
       "2      1.0 2013-08-18  A3J034YH7UG4KT  B0000530HU   \n",
       "3      5.0 2011-05-03  A2UEO5XR3598GI  B0000530HU   \n",
       "4      5.0 2011-05-06  A3SFRT223XXWF7  B00006L9LC   \n",
       "\n",
       "                                          reviewText  \n",
       "0        As advertised. Reasonably priced Five Stars  \n",
       "1  Like the oder and the feel when I put it on my...  \n",
       "2  I bought this to smell nice after I shave.  Wh...  \n",
       "3  HEY!! I am an Aqua Velva Man and absolutely lo...  \n",
       "4  If you ever want to feel pampered by a shampoo...  "
      ]
     },
     "execution_count": 11,
     "metadata": {},
     "output_type": "execute_result"
    }
   ],
   "source": [
    "df.drop(['summary', 'unixReviewTime'], axis = 1, inplace = True)\n",
    "df.head()"
   ]
  },
  {
   "cell_type": "markdown",
   "metadata": {},
   "source": [
    "Let's see if we have any duplicates:"
   ]
  },
  {
   "cell_type": "code",
   "execution_count": 12,
   "metadata": {},
   "outputs": [
    {
     "data": {
      "text/plain": [
       "overall       2047\n",
       "reviewTime    2047\n",
       "reviewerID    2047\n",
       "asin          2047\n",
       "reviewText    2047\n",
       "dtype: int64"
      ]
     },
     "execution_count": 12,
     "metadata": {},
     "output_type": "execute_result"
    }
   ],
   "source": [
    "df[df.duplicated(keep=False)].count()"
   ]
  },
  {
   "cell_type": "markdown",
   "metadata": {},
   "source": [
    "We are going to drop the duplicates."
   ]
  },
  {
   "cell_type": "code",
   "execution_count": 13,
   "metadata": {},
   "outputs": [
    {
     "name": "stdout",
     "output_type": "stream",
     "text": [
      "<class 'pandas.core.frame.DataFrame'>\n",
      "Int64Index: 4219 entries, 0 to 5268\n",
      "Data columns (total 5 columns):\n",
      "overall       4219 non-null float64\n",
      "reviewTime    4219 non-null datetime64[ns]\n",
      "reviewerID    4219 non-null object\n",
      "asin          4219 non-null object\n",
      "reviewText    4219 non-null object\n",
      "dtypes: datetime64[ns](1), float64(1), object(3)\n",
      "memory usage: 197.8+ KB\n"
     ]
    }
   ],
   "source": [
    "df.drop_duplicates(inplace = True)\n",
    "\n",
    "# check to see how many rows left\n",
    "df.info()"
   ]
  },
  {
   "cell_type": "markdown",
   "metadata": {},
   "source": [
    "Here, we will check the unique number of features."
   ]
  },
  {
   "cell_type": "code",
   "execution_count": 14,
   "metadata": {
    "scrolled": true
   },
   "outputs": [
    {
     "name": "stdout",
     "output_type": "stream",
     "text": [
      "The total number of reviewers is: 991\n",
      "The total number of unique reviews is: 1370\n",
      "The total number of reiewed products is: 85\n",
      "The total number of review days is: 883\n",
      "The total number of reviews is: 4219\n"
     ]
    }
   ],
   "source": [
    "print('The total number of reviewers is: {}'. format(df.reviewerID.nunique()))\n",
    "print('The total number of unique reviews is: {}'. format(df.reviewText.nunique()))\n",
    "print('The total number of reiewed products is: {}'. format(df.asin.nunique()))\n",
    "print('The total number of review days is: {}'. format(df.reviewTime.nunique()))\n",
    "print('The total number of reviews is: {}'. format(len(df)))"
   ]
  },
  {
   "cell_type": "markdown",
   "metadata": {},
   "source": [
    "991 unique customers wrote 1370 unique reviews for 85 products in 883 unique days."
   ]
  },
  {
   "cell_type": "markdown",
   "metadata": {},
   "source": [
    "We are going to drop the rows with duplicate reviews."
   ]
  },
  {
   "cell_type": "code",
   "execution_count": 15,
   "metadata": {},
   "outputs": [],
   "source": [
    "df.drop_duplicates(subset='reviewText', keep='first', inplace=True)"
   ]
  },
  {
   "cell_type": "code",
   "execution_count": 16,
   "metadata": {},
   "outputs": [
    {
     "name": "stdout",
     "output_type": "stream",
     "text": [
      "<class 'pandas.core.frame.DataFrame'>\n",
      "Int64Index: 1370 entries, 0 to 5268\n",
      "Data columns (total 5 columns):\n",
      "overall       1370 non-null float64\n",
      "reviewTime    1370 non-null datetime64[ns]\n",
      "reviewerID    1370 non-null object\n",
      "asin          1370 non-null object\n",
      "reviewText    1370 non-null object\n",
      "dtypes: datetime64[ns](1), float64(1), object(3)\n",
      "memory usage: 64.2+ KB\n"
     ]
    }
   ],
   "source": [
    "# check the remaining DataFrame\n",
    "df.info()"
   ]
  },
  {
   "cell_type": "markdown",
   "metadata": {},
   "source": [
    "Now, let's check the summary statistics of the ratings in 'overall' column:"
   ]
  },
  {
   "cell_type": "code",
   "execution_count": 17,
   "metadata": {},
   "outputs": [
    {
     "data": {
      "text/html": [
       "<div>\n",
       "<style scoped>\n",
       "    .dataframe tbody tr th:only-of-type {\n",
       "        vertical-align: middle;\n",
       "    }\n",
       "\n",
       "    .dataframe tbody tr th {\n",
       "        vertical-align: top;\n",
       "    }\n",
       "\n",
       "    .dataframe thead th {\n",
       "        text-align: right;\n",
       "    }\n",
       "</style>\n",
       "<table border=\"1\" class=\"dataframe\">\n",
       "  <thead>\n",
       "    <tr style=\"text-align: right;\">\n",
       "      <th></th>\n",
       "      <th>overall</th>\n",
       "    </tr>\n",
       "  </thead>\n",
       "  <tbody>\n",
       "    <tr>\n",
       "      <td>count</td>\n",
       "      <td>1370.000000</td>\n",
       "    </tr>\n",
       "    <tr>\n",
       "      <td>mean</td>\n",
       "      <td>4.647445</td>\n",
       "    </tr>\n",
       "    <tr>\n",
       "      <td>std</td>\n",
       "      <td>0.837714</td>\n",
       "    </tr>\n",
       "    <tr>\n",
       "      <td>min</td>\n",
       "      <td>1.000000</td>\n",
       "    </tr>\n",
       "    <tr>\n",
       "      <td>25%</td>\n",
       "      <td>5.000000</td>\n",
       "    </tr>\n",
       "    <tr>\n",
       "      <td>50%</td>\n",
       "      <td>5.000000</td>\n",
       "    </tr>\n",
       "    <tr>\n",
       "      <td>75%</td>\n",
       "      <td>5.000000</td>\n",
       "    </tr>\n",
       "    <tr>\n",
       "      <td>max</td>\n",
       "      <td>5.000000</td>\n",
       "    </tr>\n",
       "  </tbody>\n",
       "</table>\n",
       "</div>"
      ],
      "text/plain": [
       "           overall\n",
       "count  1370.000000\n",
       "mean      4.647445\n",
       "std       0.837714\n",
       "min       1.000000\n",
       "25%       5.000000\n",
       "50%       5.000000\n",
       "75%       5.000000\n",
       "max       5.000000"
      ]
     },
     "execution_count": 17,
     "metadata": {},
     "output_type": "execute_result"
    }
   ],
   "source": [
    "df.describe()"
   ]
  },
  {
   "cell_type": "markdown",
   "metadata": {},
   "source": [
    "The standard deviation is 0.84 and the mean is 4.65. Over 5.0, 4.65 is quite a good average."
   ]
  },
  {
   "cell_type": "markdown",
   "metadata": {},
   "source": [
    "## 3. EDA"
   ]
  },
  {
   "cell_type": "markdown",
   "metadata": {},
   "source": [
    "Here, we will do an Exploratory Data Analysis. We will look at the features."
   ]
  },
  {
   "cell_type": "markdown",
   "metadata": {},
   "source": [
    "### a. 'reviewTime'"
   ]
  },
  {
   "cell_type": "code",
   "execution_count": 18,
   "metadata": {},
   "outputs": [
    {
     "name": "stdout",
     "output_type": "stream",
     "text": [
      "2004-09-21 00:00:00 - 2018-08-23 00:00:00\n"
     ]
    }
   ],
   "source": [
    "# check the dates covered\n",
    "print(df['reviewTime'].min(), '-', df['reviewTime'].max())"
   ]
  },
  {
   "cell_type": "markdown",
   "metadata": {},
   "source": [
    "The data covers the period between September 2004 and August 2018. Here is the plot of number of reviews by year:"
   ]
  },
  {
   "cell_type": "code",
   "execution_count": 19,
   "metadata": {},
   "outputs": [
    {
     "data": {
      "image/png": "[encoded data removed]",
      "text/plain": [
       "<Figure size 432x288 with 1 Axes>"
      ]
     },
     "metadata": {
      "needs_background": "light"
     },
     "output_type": "display_data"
    }
   ],
   "source": [
    "df['reviewYear'] = df.reviewTime.dt.year\n",
    "yr = df.reviewYear.value_counts()\n",
    "yr_figure = sns.barplot(x = yr.index, y = yr.values)\n",
    "yr_figure.set(title = 'Number of Reviews by Year')\n",
    "yr_figure.set(xlabel = 'Years')\n",
    "yr_figure.set(ylabel = 'Number of Reviews')\n",
    "yr_figure.set_xticklabels(yr_figure.get_xticklabels(), rotation=45, horizontalalignment='right')\n",
    "plt.show()"
   ]
  },
  {
   "cell_type": "markdown",
   "metadata": {},
   "source": [
    "The number of reviews increased generally and reached the maximum in 2017. The 2018 data covers the period until August 23. There is a huge leap from 2012 to 2013."
   ]
  },
  {
   "cell_type": "markdown",
   "metadata": {},
   "source": [
    "### b. 'overall'"
   ]
  },
  {
   "cell_type": "code",
   "execution_count": 20,
   "metadata": {
    "scrolled": false
   },
   "outputs": [
    {
     "data": {
      "text/plain": [
       "5.0    1095\n",
       "4.0     153\n",
       "3.0      66\n",
       "1.0      30\n",
       "2.0      26\n",
       "Name: overall, dtype: int64"
      ]
     },
     "execution_count": 20,
     "metadata": {},
     "output_type": "execute_result"
    }
   ],
   "source": [
    "# check the values of 'overall'\n",
    "df.overall.value_counts()"
   ]
  },
  {
   "cell_type": "markdown",
   "metadata": {},
   "source": [
    "Let's see it in a plot."
   ]
  },
  {
   "cell_type": "code",
   "execution_count": 21,
   "metadata": {},
   "outputs": [
    {
     "data": {
      "image/png": "[encoded data removed]",
      "text/plain": [
       "<Figure size 432x288 with 1 Axes>"
      ]
     },
     "metadata": {
      "needs_background": "light"
     },
     "output_type": "display_data"
    }
   ],
   "source": [
    "ov = df.overall.value_counts()\n",
    "my_figure = sns.barplot(x = ov.index, y = ov.values)\n",
    "my_figure.set(title = 'Ratings Plot')\n",
    "my_figure.set(xlabel = 'Ratings')\n",
    "my_figure.set(ylabel = 'Value counts')\n",
    "plt.show()"
   ]
  },
  {
   "cell_type": "markdown",
   "metadata": {},
   "source": [
    "Most of the ratings are 5.0."
   ]
  },
  {
   "cell_type": "markdown",
   "metadata": {},
   "source": [
    "We will categorize 'overall' values > 3 as 1 and 'overall' values <= 3 as 0 to do a binary classification. "
   ]
  },
  {
   "cell_type": "code",
   "execution_count": 22,
   "metadata": {},
   "outputs": [
    {
     "data": {
      "text/html": [
       "<div>\n",
       "<style scoped>\n",
       "    .dataframe tbody tr th:only-of-type {\n",
       "        vertical-align: middle;\n",
       "    }\n",
       "\n",
       "    .dataframe tbody tr th {\n",
       "        vertical-align: top;\n",
       "    }\n",
       "\n",
       "    .dataframe thead th {\n",
       "        text-align: right;\n",
       "    }\n",
       "</style>\n",
       "<table border=\"1\" class=\"dataframe\">\n",
       "  <thead>\n",
       "    <tr style=\"text-align: right;\">\n",
       "      <th></th>\n",
       "      <th>overall</th>\n",
       "      <th>reviewTime</th>\n",
       "      <th>reviewerID</th>\n",
       "      <th>asin</th>\n",
       "      <th>reviewText</th>\n",
       "      <th>reviewYear</th>\n",
       "    </tr>\n",
       "  </thead>\n",
       "  <tbody>\n",
       "    <tr>\n",
       "      <td>0</td>\n",
       "      <td>1</td>\n",
       "      <td>2016-09-01</td>\n",
       "      <td>A3CIUOJXQ5VDQ2</td>\n",
       "      <td>B0000530HU</td>\n",
       "      <td>As advertised. Reasonably priced Five Stars</td>\n",
       "      <td>2016</td>\n",
       "    </tr>\n",
       "    <tr>\n",
       "      <td>1</td>\n",
       "      <td>1</td>\n",
       "      <td>2013-11-14</td>\n",
       "      <td>A3H7T87S984REU</td>\n",
       "      <td>B0000530HU</td>\n",
       "      <td>Like the oder and the feel when I put it on my...</td>\n",
       "      <td>2013</td>\n",
       "    </tr>\n",
       "    <tr>\n",
       "      <td>2</td>\n",
       "      <td>0</td>\n",
       "      <td>2013-08-18</td>\n",
       "      <td>A3J034YH7UG4KT</td>\n",
       "      <td>B0000530HU</td>\n",
       "      <td>I bought this to smell nice after I shave.  Wh...</td>\n",
       "      <td>2013</td>\n",
       "    </tr>\n",
       "    <tr>\n",
       "      <td>3</td>\n",
       "      <td>1</td>\n",
       "      <td>2011-05-03</td>\n",
       "      <td>A2UEO5XR3598GI</td>\n",
       "      <td>B0000530HU</td>\n",
       "      <td>HEY!! I am an Aqua Velva Man and absolutely lo...</td>\n",
       "      <td>2011</td>\n",
       "    </tr>\n",
       "    <tr>\n",
       "      <td>4</td>\n",
       "      <td>1</td>\n",
       "      <td>2011-05-06</td>\n",
       "      <td>A3SFRT223XXWF7</td>\n",
       "      <td>B00006L9LC</td>\n",
       "      <td>If you ever want to feel pampered by a shampoo...</td>\n",
       "      <td>2011</td>\n",
       "    </tr>\n",
       "  </tbody>\n",
       "</table>\n",
       "</div>"
      ],
      "text/plain": [
       "   overall reviewTime      reviewerID        asin  \\\n",
       "0        1 2016-09-01  A3CIUOJXQ5VDQ2  B0000530HU   \n",
       "1        1 2013-11-14  A3H7T87S984REU  B0000530HU   \n",
       "2        0 2013-08-18  A3J034YH7UG4KT  B0000530HU   \n",
       "3        1 2011-05-03  A2UEO5XR3598GI  B0000530HU   \n",
       "4        1 2011-05-06  A3SFRT223XXWF7  B00006L9LC   \n",
       "\n",
       "                                          reviewText  reviewYear  \n",
       "0        As advertised. Reasonably priced Five Stars        2016  \n",
       "1  Like the oder and the feel when I put it on my...        2013  \n",
       "2  I bought this to smell nice after I shave.  Wh...        2013  \n",
       "3  HEY!! I am an Aqua Velva Man and absolutely lo...        2011  \n",
       "4  If you ever want to feel pampered by a shampoo...        2011  "
      ]
     },
     "execution_count": 22,
     "metadata": {},
     "output_type": "execute_result"
    }
   ],
   "source": [
    "df['overall'] = df['overall'].apply(lambda x: 1 if x > 3 else 0)\n",
    "df.head()"
   ]
  },
  {
   "cell_type": "code",
   "execution_count": 23,
   "metadata": {},
   "outputs": [
    {
     "data": {
      "text/plain": [
       "1    0.910949\n",
       "0    0.089051\n",
       "Name: overall, dtype: float64"
      ]
     },
     "execution_count": 23,
     "metadata": {},
     "output_type": "execute_result"
    }
   ],
   "source": [
    "# check the values of 'overall' as a fraction\n",
    "df.overall.value_counts() / len(df.overall)"
   ]
  },
  {
   "cell_type": "code",
   "execution_count": 24,
   "metadata": {},
   "outputs": [
    {
     "data": {
      "image/png": "[encoded data removed]",
      "text/plain": [
       "<Figure size 432x288 with 1 Axes>"
      ]
     },
     "metadata": {
      "needs_background": "light"
     },
     "output_type": "display_data"
    }
   ],
   "source": [
    "# see the new plot\n",
    "ov = df.overall.value_counts()\n",
    "new_figure = sns.barplot(x = ov.index, y = ov.values)\n",
    "new_figure.set(title = 'New Ratings Plot')\n",
    "new_figure.set(xlabel = 'New Ratings')\n",
    "new_figure.set(ylabel = 'New Value Counts')\n",
    "plt.show()"
   ]
  },
  {
   "cell_type": "markdown",
   "metadata": {},
   "source": [
    "A pie plot will provide a better visualization of the new rating ratios:"
   ]
  },
  {
   "cell_type": "code",
   "execution_count": 25,
   "metadata": {},
   "outputs": [
    {
     "data": {
      "image/png": "[encoded data removed]",
      "text/plain": [
       "<Figure size 432x432 with 1 Axes>"
      ]
     },
     "metadata": {},
     "output_type": "display_data"
    }
   ],
   "source": [
    "df['overall'].value_counts().plot.pie(autopct='%.0f', fontsize=16, figsize=(6, 6))\n",
    "plt.title('New Rating Pie Plot')\n",
    "plt.show()"
   ]
  },
  {
   "cell_type": "markdown",
   "metadata": {},
   "source": [
    "91% of the reviews are positive."
   ]
  },
  {
   "cell_type": "markdown",
   "metadata": {},
   "source": [
    "Here, we are going to look at the yearly ratio of positive reviews."
   ]
  },
  {
   "cell_type": "code",
   "execution_count": 26,
   "metadata": {},
   "outputs": [
    {
     "data": {
      "text/html": [
       "<div>\n",
       "<style scoped>\n",
       "    .dataframe tbody tr th:only-of-type {\n",
       "        vertical-align: middle;\n",
       "    }\n",
       "\n",
       "    .dataframe tbody tr th {\n",
       "        vertical-align: top;\n",
       "    }\n",
       "\n",
       "    .dataframe thead th {\n",
       "        text-align: right;\n",
       "    }\n",
       "</style>\n",
       "<table border=\"1\" class=\"dataframe\">\n",
       "  <thead>\n",
       "    <tr style=\"text-align: right;\">\n",
       "      <th></th>\n",
       "      <th>Year</th>\n",
       "      <th>Number_Total_Reviews</th>\n",
       "      <th>Number_Positive_Reviews</th>\n",
       "      <th>Ratio_Positive_Reviews</th>\n",
       "    </tr>\n",
       "  </thead>\n",
       "  <tbody>\n",
       "    <tr>\n",
       "      <td>0</td>\n",
       "      <td>2004</td>\n",
       "      <td>1</td>\n",
       "      <td>1</td>\n",
       "      <td>1.000000</td>\n",
       "    </tr>\n",
       "    <tr>\n",
       "      <td>1</td>\n",
       "      <td>2005</td>\n",
       "      <td>1</td>\n",
       "      <td>1</td>\n",
       "      <td>1.000000</td>\n",
       "    </tr>\n",
       "    <tr>\n",
       "      <td>2</td>\n",
       "      <td>2006</td>\n",
       "      <td>1</td>\n",
       "      <td>1</td>\n",
       "      <td>1.000000</td>\n",
       "    </tr>\n",
       "    <tr>\n",
       "      <td>3</td>\n",
       "      <td>2007</td>\n",
       "      <td>10</td>\n",
       "      <td>7</td>\n",
       "      <td>0.700000</td>\n",
       "    </tr>\n",
       "    <tr>\n",
       "      <td>4</td>\n",
       "      <td>2008</td>\n",
       "      <td>13</td>\n",
       "      <td>3</td>\n",
       "      <td>0.230769</td>\n",
       "    </tr>\n",
       "    <tr>\n",
       "      <td>5</td>\n",
       "      <td>2009</td>\n",
       "      <td>9</td>\n",
       "      <td>7</td>\n",
       "      <td>0.777778</td>\n",
       "    </tr>\n",
       "    <tr>\n",
       "      <td>6</td>\n",
       "      <td>2010</td>\n",
       "      <td>1</td>\n",
       "      <td>1</td>\n",
       "      <td>1.000000</td>\n",
       "    </tr>\n",
       "    <tr>\n",
       "      <td>7</td>\n",
       "      <td>2011</td>\n",
       "      <td>7</td>\n",
       "      <td>5</td>\n",
       "      <td>0.714286</td>\n",
       "    </tr>\n",
       "    <tr>\n",
       "      <td>8</td>\n",
       "      <td>2012</td>\n",
       "      <td>23</td>\n",
       "      <td>22</td>\n",
       "      <td>0.956522</td>\n",
       "    </tr>\n",
       "    <tr>\n",
       "      <td>9</td>\n",
       "      <td>2013</td>\n",
       "      <td>204</td>\n",
       "      <td>181</td>\n",
       "      <td>0.887255</td>\n",
       "    </tr>\n",
       "    <tr>\n",
       "      <td>10</td>\n",
       "      <td>2014</td>\n",
       "      <td>196</td>\n",
       "      <td>185</td>\n",
       "      <td>0.943878</td>\n",
       "    </tr>\n",
       "    <tr>\n",
       "      <td>11</td>\n",
       "      <td>2015</td>\n",
       "      <td>231</td>\n",
       "      <td>226</td>\n",
       "      <td>0.978355</td>\n",
       "    </tr>\n",
       "    <tr>\n",
       "      <td>12</td>\n",
       "      <td>2016</td>\n",
       "      <td>255</td>\n",
       "      <td>252</td>\n",
       "      <td>0.988235</td>\n",
       "    </tr>\n",
       "    <tr>\n",
       "      <td>13</td>\n",
       "      <td>2017</td>\n",
       "      <td>301</td>\n",
       "      <td>272</td>\n",
       "      <td>0.903654</td>\n",
       "    </tr>\n",
       "    <tr>\n",
       "      <td>14</td>\n",
       "      <td>2018</td>\n",
       "      <td>117</td>\n",
       "      <td>84</td>\n",
       "      <td>0.717949</td>\n",
       "    </tr>\n",
       "  </tbody>\n",
       "</table>\n",
       "</div>"
      ],
      "text/plain": [
       "    Year  Number_Total_Reviews  Number_Positive_Reviews  \\\n",
       "0   2004                     1                        1   \n",
       "1   2005                     1                        1   \n",
       "2   2006                     1                        1   \n",
       "3   2007                    10                        7   \n",
       "4   2008                    13                        3   \n",
       "5   2009                     9                        7   \n",
       "6   2010                     1                        1   \n",
       "7   2011                     7                        5   \n",
       "8   2012                    23                       22   \n",
       "9   2013                   204                      181   \n",
       "10  2014                   196                      185   \n",
       "11  2015                   231                      226   \n",
       "12  2016                   255                      252   \n",
       "13  2017                   301                      272   \n",
       "14  2018                   117                       84   \n",
       "\n",
       "    Ratio_Positive_Reviews  \n",
       "0                 1.000000  \n",
       "1                 1.000000  \n",
       "2                 1.000000  \n",
       "3                 0.700000  \n",
       "4                 0.230769  \n",
       "5                 0.777778  \n",
       "6                 1.000000  \n",
       "7                 0.714286  \n",
       "8                 0.956522  \n",
       "9                 0.887255  \n",
       "10                0.943878  \n",
       "11                0.978355  \n",
       "12                0.988235  \n",
       "13                0.903654  \n",
       "14                0.717949  "
      ]
     },
     "execution_count": 26,
     "metadata": {},
     "output_type": "execute_result"
    }
   ],
   "source": [
    "reviews_by_year = df.groupby(['reviewYear']).agg({'overall':['size', 'sum']})\n",
    "reviews_by_year.columns = [' '.join(col).strip() for col in reviews_by_year.columns.values]\n",
    "reviews_by_year = reviews_by_year.reset_index()\n",
    "reviews_by_year['% of Positive Review'] = [x/y for x,y in zip(reviews_by_year['overall sum'], \n",
    "                                                              reviews_by_year['overall size'])]\n",
    "reviews_by_year.columns = ['Year', 'Number_Total_Reviews', 'Number_Positive_Reviews', \n",
    "                       'Ratio_Positive_Reviews']\n",
    "reviews_by_year"
   ]
  },
  {
   "cell_type": "markdown",
   "metadata": {},
   "source": [
    "Let's see this in a plot."
   ]
  },
  {
   "cell_type": "code",
   "execution_count": 27,
   "metadata": {},
   "outputs": [
    {
     "data": {
      "image/png": "[encoded data removed]",
      "text/plain": [
       "<Figure size 432x288 with 1 Axes>"
      ]
     },
     "metadata": {
      "needs_background": "light"
     },
     "output_type": "display_data"
    }
   ],
   "source": [
    "ratio_figure = sns.barplot(x = reviews_by_year.Year.values, \n",
    "                         y = reviews_by_year.Ratio_Positive_Reviews.values)\n",
    "ratio_figure.set(title = 'Positive Review Ratio by Year')\n",
    "ratio_figure.set(xlabel = 'Years')\n",
    "ratio_figure.set(ylabel = 'Positive Review Ratio')\n",
    "ratio_figure.set_xticklabels(yr_figure.get_xticklabels(), \n",
    "                             rotation=45, horizontalalignment='right')\n",
    "plt.show()"
   ]
  },
  {
   "cell_type": "markdown",
   "metadata": {},
   "source": [
    "There is a minimum 23% in 2008. Year 2018 until August is also not too high with 72% positive reviews."
   ]
  },
  {
   "cell_type": "markdown",
   "metadata": {},
   "source": [
    "### c. 'reviewerID'"
   ]
  },
  {
   "cell_type": "markdown",
   "metadata": {},
   "source": [
    "Let's see if some customers write more reviews:"
   ]
  },
  {
   "cell_type": "code",
   "execution_count": 28,
   "metadata": {},
   "outputs": [
    {
     "data": {
      "text/plain": [
       "AUX122XW8ONG6     11\n",
       "A1UQBFCERIP7VJ    10\n",
       "A11QGZ39A7ZF0X    10\n",
       "A22CW0ZHY3NJH8     8\n",
       "AKJHHD5VEH7VG      8\n",
       "Name: reviewerID, dtype: int64"
      ]
     },
     "execution_count": 28,
     "metadata": {},
     "output_type": "execute_result"
    }
   ],
   "source": [
    "df['reviewerID'].value_counts().head()"
   ]
  },
  {
   "cell_type": "markdown",
   "metadata": {},
   "source": [
    "There are customers who provide valuable feedback by writing more reviews. It would be beneficial to keep track of these customers."
   ]
  },
  {
   "cell_type": "markdown",
   "metadata": {},
   "source": [
    "### d. 'asin'"
   ]
  },
  {
   "cell_type": "markdown",
   "metadata": {},
   "source": [
    "Now, we are going to check if some products get more reviews."
   ]
  },
  {
   "cell_type": "code",
   "execution_count": 29,
   "metadata": {},
   "outputs": [
    {
     "data": {
      "text/plain": [
       "B00006L9LC    475\n",
       "B0009RF9DW    378\n",
       "B00W259T7G    127\n",
       "B0010ZBORW     49\n",
       "B001LNODUS     32\n",
       "B01E7UKR38     23\n",
       "B01DLR9IDI     21\n",
       "B00DY59MB6     18\n",
       "B0013NB7DW     18\n",
       "B000URXP6E     16\n",
       "Name: asin, dtype: int64"
      ]
     },
     "execution_count": 29,
     "metadata": {},
     "output_type": "execute_result"
    }
   ],
   "source": [
    "df['asin'].value_counts().head(10)"
   ]
  },
  {
   "cell_type": "markdown",
   "metadata": {},
   "source": [
    "There are 3 products which were reviewed more than 100 times. It would be beneficial to invest more in these products."
   ]
  },
  {
   "cell_type": "markdown",
   "metadata": {},
   "source": [
    "## 4. NLP"
   ]
  },
  {
   "cell_type": "markdown",
   "metadata": {},
   "source": [
    "First, we are going to check the length of the reviews."
   ]
  },
  {
   "cell_type": "code",
   "execution_count": 30,
   "metadata": {},
   "outputs": [
    {
     "name": "stdout",
     "output_type": "stream",
     "text": [
      "\n",
      " longest review:  5282 \n",
      " shortest review:  9\n"
     ]
    }
   ],
   "source": [
    "length_reviews = df.reviewText.str.len()\n",
    "print('\\n longest review: ', max(length_reviews), '\\n shortest review: ', min(length_reviews))"
   ]
  },
  {
   "cell_type": "markdown",
   "metadata": {},
   "source": [
    "Now, we will tokenize the text."
   ]
  },
  {
   "cell_type": "code",
   "execution_count": 31,
   "metadata": {},
   "outputs": [
    {
     "name": "stdout",
     "output_type": "stream",
     "text": [
      "['As', 'advertised', '.', 'Reasonably', 'priced', 'Five', 'Stars']\n",
      "['Like', 'the', 'oder', 'and', 'the', 'feel', 'when', 'I', 'put', 'it', 'on', 'my', 'face', '.', 'I', 'have', 'tried', 'other', 'brands', 'but', 'the', 'reviews', 'from', 'people', 'I', 'know', 'they', 'prefer', 'the', 'oder', 'of', 'this', 'brand', '.', 'Not', 'hard', 'on', 'the', 'face', 'when', 'dry', '.', 'Does', 'not', 'leave', 'dry', 'skin', '.', 'Good', 'for', 'the', 'face']\n"
     ]
    }
   ],
   "source": [
    "word_tokens = [word_tokenize(review) for review in df.reviewText]\n",
    "\n",
    "# check the resulting tokens\n",
    "print(word_tokens[0])\n",
    "print(word_tokens[1])"
   ]
  },
  {
   "cell_type": "markdown",
   "metadata": {},
   "source": [
    "Here, we will normalize the text, i.e. we will use a function that strips the html tags, converts the text to lower_case, lemmatizes the text, removes extra lines, accented or special characters, digits and stopwords."
   ]
  },
  {
   "cell_type": "code",
   "execution_count": 32,
   "metadata": {},
   "outputs": [],
   "source": [
    "# html_tags removal\n",
    "def strip_html_tags(text):\n",
    "    soup = BeautifulSoup(text, \"html.parser\")\n",
    "    stripped_text = soup.get_text()\n",
    "    return stripped_text\n",
    "\n",
    "# accented_chars removal\n",
    "def remove_accented_chars(text):\n",
    "    text = unicodedata.normalize('NFKD', text).encode('ascii', 'ignore').decode('utf-8', 'ignore')\n",
    "    return text\n",
    "\n",
    "# special_characters removal\n",
    "def remove_special_characters(text, remove_digits=False):\n",
    "    pattern = r'[^a-zA-z0-9\\s]' if not remove_digits else r'[^a-zA-z\\s]'\n",
    "    text = re.sub(pattern, '', text)\n",
    "    return text\n",
    "\n",
    "# Lemmatization\n",
    "lemmatizer=WordNetLemmatizer()\n",
    "                     \n",
    "def lemmatize_text(text):\n",
    "    text = \" \".join(lemmatizer.lemmatize(w) for w in text.split(' '))\n",
    "    return text\n",
    "\n",
    "# Creating stopwordlist and editing \n",
    "stopword_list= stopwords.words('english')\n",
    "    \n",
    "# \"no\" and \"not\" may give us information so those are removed from stop lists\n",
    "stopword_list.remove('no')\n",
    "stopword_list.remove('not')\n",
    "                     \n",
    "def remove_stopwords(text, stop_words=stopword_list):\n",
    "    tokens = [w for w in nltk.word_tokenize(text) if w not in stop_words]\n",
    "    return ' '.join(tokens)    \n",
    "\n",
    "                     \n",
    "\n",
    "def normalize_text(text, html_stripping=True, accented_char_removal=True, text_lower_case=True, \n",
    "                     text_lemmatization=True, special_char_removal=True, \n",
    "                     stopword_removal=True, remove_digits=True):\n",
    "    \n",
    "    # strip HTML\n",
    "    if html_stripping:\n",
    "        text = strip_html_tags(text)\n",
    "        \n",
    "    # remove accented characters\n",
    "    if accented_char_removal:\n",
    "        text = remove_accented_chars(text)\n",
    "\n",
    "    # lowercase the text    \n",
    "    if text_lower_case:\n",
    "        text = text.lower()\n",
    "    \n",
    "    # remove extra newlines\n",
    "    text = re.sub(r'[\\r|\\n|\\r\\n]+', ' ',text)\n",
    "    \n",
    "    # remove special characters and\\or digits    \n",
    "    if special_char_removal:\n",
    "        # insert spaces between special characters to isolate them    \n",
    "        special_char_pattern = re.compile(r'([{.(-)!}])')\n",
    "        text = special_char_pattern.sub(\" \\\\1 \", text)\n",
    "        text = remove_special_characters(text, remove_digits=remove_digits)  \n",
    "    \n",
    "    # remove extra whitespace and underscore\n",
    "    text = re.sub(' +', ' ', text)\n",
    "    text = re.sub('_+', '', text)\n",
    "    \n",
    "    # lemmatize text\n",
    "    if text_lemmatization:\n",
    "        text = lemmatize_text(text)\n",
    "        \n",
    "    # remove stopwords\n",
    "    if stopword_removal:\n",
    "        text = remove_stopwords(text)\n",
    "       \n",
    "    return text"
   ]
  },
  {
   "cell_type": "markdown",
   "metadata": {},
   "source": [
    "Let's see the function in action:"
   ]
  },
  {
   "cell_type": "code",
   "execution_count": 33,
   "metadata": {},
   "outputs": [
    {
     "data": {
      "text/html": [
       "<div>\n",
       "<style scoped>\n",
       "    .dataframe tbody tr th:only-of-type {\n",
       "        vertical-align: middle;\n",
       "    }\n",
       "\n",
       "    .dataframe tbody tr th {\n",
       "        vertical-align: top;\n",
       "    }\n",
       "\n",
       "    .dataframe thead th {\n",
       "        text-align: right;\n",
       "    }\n",
       "</style>\n",
       "<table border=\"1\" class=\"dataframe\">\n",
       "  <thead>\n",
       "    <tr style=\"text-align: right;\">\n",
       "      <th></th>\n",
       "      <th>overall</th>\n",
       "      <th>reviewTime</th>\n",
       "      <th>reviewerID</th>\n",
       "      <th>asin</th>\n",
       "      <th>reviewText</th>\n",
       "      <th>reviewYear</th>\n",
       "      <th>clean_text</th>\n",
       "    </tr>\n",
       "  </thead>\n",
       "  <tbody>\n",
       "    <tr>\n",
       "      <td>0</td>\n",
       "      <td>1</td>\n",
       "      <td>2016-09-01</td>\n",
       "      <td>A3CIUOJXQ5VDQ2</td>\n",
       "      <td>B0000530HU</td>\n",
       "      <td>As advertised. Reasonably priced Five Stars</td>\n",
       "      <td>2016</td>\n",
       "      <td>advertised reasonably priced five star</td>\n",
       "    </tr>\n",
       "  </tbody>\n",
       "</table>\n",
       "</div>"
      ],
      "text/plain": [
       "   overall reviewTime      reviewerID        asin  \\\n",
       "0        1 2016-09-01  A3CIUOJXQ5VDQ2  B0000530HU   \n",
       "\n",
       "                                    reviewText  reviewYear  \\\n",
       "0  As advertised. Reasonably priced Five Stars        2016   \n",
       "\n",
       "                               clean_text  \n",
       "0  advertised reasonably priced five star  "
      ]
     },
     "execution_count": 33,
     "metadata": {},
     "output_type": "execute_result"
    }
   ],
   "source": [
    "df['clean_text'] = df['reviewText'].map(lambda text: normalize_text(text))\n",
    "df.head(1)"
   ]
  },
  {
   "cell_type": "markdown",
   "metadata": {},
   "source": [
    "Now, we will plot a word cloud to get a pictorial feel of which words occur the most in the reviews."
   ]
  },
  {
   "cell_type": "code",
   "execution_count": 34,
   "metadata": {},
   "outputs": [
    {
     "data": {
      "image/png": "[encoded data removed]",
      "text/plain": [
       "<Figure size 432x288 with 1 Axes>"
      ]
     },
     "metadata": {
      "needs_background": "light"
     },
     "output_type": "display_data"
    }
   ],
   "source": [
    "%matplotlib inline\n",
    "import pdb\n",
    "big_list = ''\n",
    "#big_list = [big_list + row  for row in df.reviewText]\n",
    "big_list = [''.join(row) for row in df.clean_text]\n",
    "big_string = ','.join(big_list)\n",
    "\n",
    "my_cloud = WordCloud(background_color = 'white').generate(big_string)\n",
    "plt.imshow(my_cloud, interpolation = 'bilinear')\n",
    "plt.axis('off')\n",
    "plt.show()"
   ]
  },
  {
   "cell_type": "markdown",
   "metadata": {},
   "source": [
    "It's time to prepare the data for machine learning. Now, we will use Tfidf Vectorizer to capture the frequency ratios each word appears in the reviews."
   ]
  },
  {
   "cell_type": "code",
   "execution_count": 35,
   "metadata": {},
   "outputs": [
    {
     "data": {
      "text/html": [
       "<div>\n",
       "<style scoped>\n",
       "    .dataframe tbody tr th:only-of-type {\n",
       "        vertical-align: middle;\n",
       "    }\n",
       "\n",
       "    .dataframe tbody tr th {\n",
       "        vertical-align: top;\n",
       "    }\n",
       "\n",
       "    .dataframe thead th {\n",
       "        text-align: right;\n",
       "    }\n",
       "</style>\n",
       "<table border=\"1\" class=\"dataframe\">\n",
       "  <thead>\n",
       "    <tr style=\"text-align: right;\">\n",
       "      <th></th>\n",
       "      <th>able</th>\n",
       "      <th>absolutely</th>\n",
       "      <th>absorbs</th>\n",
       "      <th>accidentally</th>\n",
       "      <th>acid</th>\n",
       "      <th>active</th>\n",
       "      <th>actual</th>\n",
       "      <th>actually</th>\n",
       "      <th>add</th>\n",
       "      <th>added</th>\n",
       "      <th>...</th>\n",
       "      <th>wrinkle</th>\n",
       "      <th>wrong</th>\n",
       "      <th>year</th>\n",
       "      <th>yellow</th>\n",
       "      <th>yes</th>\n",
       "      <th>youll</th>\n",
       "      <th>younger</th>\n",
       "      <th>youre</th>\n",
       "      <th>yummy</th>\n",
       "      <th>zest</th>\n",
       "    </tr>\n",
       "  </thead>\n",
       "  <tbody>\n",
       "    <tr>\n",
       "      <td>0</td>\n",
       "      <td>0.0</td>\n",
       "      <td>0.000000</td>\n",
       "      <td>0.0</td>\n",
       "      <td>0.0</td>\n",
       "      <td>0.0</td>\n",
       "      <td>0.0</td>\n",
       "      <td>0.0</td>\n",
       "      <td>0.0</td>\n",
       "      <td>0.0</td>\n",
       "      <td>0.0</td>\n",
       "      <td>...</td>\n",
       "      <td>0.0</td>\n",
       "      <td>0.0</td>\n",
       "      <td>0.000000</td>\n",
       "      <td>0.0</td>\n",
       "      <td>0.0</td>\n",
       "      <td>0.0</td>\n",
       "      <td>0.0</td>\n",
       "      <td>0.0</td>\n",
       "      <td>0.0</td>\n",
       "      <td>0.0</td>\n",
       "    </tr>\n",
       "    <tr>\n",
       "      <td>1</td>\n",
       "      <td>0.0</td>\n",
       "      <td>0.000000</td>\n",
       "      <td>0.0</td>\n",
       "      <td>0.0</td>\n",
       "      <td>0.0</td>\n",
       "      <td>0.0</td>\n",
       "      <td>0.0</td>\n",
       "      <td>0.0</td>\n",
       "      <td>0.0</td>\n",
       "      <td>0.0</td>\n",
       "      <td>...</td>\n",
       "      <td>0.0</td>\n",
       "      <td>0.0</td>\n",
       "      <td>0.000000</td>\n",
       "      <td>0.0</td>\n",
       "      <td>0.0</td>\n",
       "      <td>0.0</td>\n",
       "      <td>0.0</td>\n",
       "      <td>0.0</td>\n",
       "      <td>0.0</td>\n",
       "      <td>0.0</td>\n",
       "    </tr>\n",
       "    <tr>\n",
       "      <td>2</td>\n",
       "      <td>0.0</td>\n",
       "      <td>0.000000</td>\n",
       "      <td>0.0</td>\n",
       "      <td>0.0</td>\n",
       "      <td>0.0</td>\n",
       "      <td>0.0</td>\n",
       "      <td>0.0</td>\n",
       "      <td>0.0</td>\n",
       "      <td>0.0</td>\n",
       "      <td>0.0</td>\n",
       "      <td>...</td>\n",
       "      <td>0.0</td>\n",
       "      <td>0.0</td>\n",
       "      <td>0.000000</td>\n",
       "      <td>0.0</td>\n",
       "      <td>0.0</td>\n",
       "      <td>0.0</td>\n",
       "      <td>0.0</td>\n",
       "      <td>0.0</td>\n",
       "      <td>0.0</td>\n",
       "      <td>0.0</td>\n",
       "    </tr>\n",
       "    <tr>\n",
       "      <td>3</td>\n",
       "      <td>0.0</td>\n",
       "      <td>0.080761</td>\n",
       "      <td>0.0</td>\n",
       "      <td>0.0</td>\n",
       "      <td>0.0</td>\n",
       "      <td>0.0</td>\n",
       "      <td>0.0</td>\n",
       "      <td>0.0</td>\n",
       "      <td>0.0</td>\n",
       "      <td>0.0</td>\n",
       "      <td>...</td>\n",
       "      <td>0.0</td>\n",
       "      <td>0.0</td>\n",
       "      <td>0.117025</td>\n",
       "      <td>0.0</td>\n",
       "      <td>0.0</td>\n",
       "      <td>0.0</td>\n",
       "      <td>0.0</td>\n",
       "      <td>0.0</td>\n",
       "      <td>0.0</td>\n",
       "      <td>0.0</td>\n",
       "    </tr>\n",
       "    <tr>\n",
       "      <td>4</td>\n",
       "      <td>0.0</td>\n",
       "      <td>0.000000</td>\n",
       "      <td>0.0</td>\n",
       "      <td>0.0</td>\n",
       "      <td>0.0</td>\n",
       "      <td>0.0</td>\n",
       "      <td>0.0</td>\n",
       "      <td>0.0</td>\n",
       "      <td>0.0</td>\n",
       "      <td>0.0</td>\n",
       "      <td>...</td>\n",
       "      <td>0.0</td>\n",
       "      <td>0.0</td>\n",
       "      <td>0.000000</td>\n",
       "      <td>0.0</td>\n",
       "      <td>0.0</td>\n",
       "      <td>0.0</td>\n",
       "      <td>0.0</td>\n",
       "      <td>0.0</td>\n",
       "      <td>0.0</td>\n",
       "      <td>0.0</td>\n",
       "    </tr>\n",
       "  </tbody>\n",
       "</table>\n",
       "<p>5 rows × 1000 columns</p>\n",
       "</div>"
      ],
      "text/plain": [
       "   able  absolutely  absorbs  accidentally  acid  active  actual  actually  \\\n",
       "0   0.0    0.000000      0.0           0.0   0.0     0.0     0.0       0.0   \n",
       "1   0.0    0.000000      0.0           0.0   0.0     0.0     0.0       0.0   \n",
       "2   0.0    0.000000      0.0           0.0   0.0     0.0     0.0       0.0   \n",
       "3   0.0    0.080761      0.0           0.0   0.0     0.0     0.0       0.0   \n",
       "4   0.0    0.000000      0.0           0.0   0.0     0.0     0.0       0.0   \n",
       "\n",
       "   add  added  ...  wrinkle  wrong      year  yellow  yes  youll  younger  \\\n",
       "0  0.0    0.0  ...      0.0    0.0  0.000000     0.0  0.0    0.0      0.0   \n",
       "1  0.0    0.0  ...      0.0    0.0  0.000000     0.0  0.0    0.0      0.0   \n",
       "2  0.0    0.0  ...      0.0    0.0  0.000000     0.0  0.0    0.0      0.0   \n",
       "3  0.0    0.0  ...      0.0    0.0  0.117025     0.0  0.0    0.0      0.0   \n",
       "4  0.0    0.0  ...      0.0    0.0  0.000000     0.0  0.0    0.0      0.0   \n",
       "\n",
       "   youre  yummy  zest  \n",
       "0    0.0    0.0   0.0  \n",
       "1    0.0    0.0   0.0  \n",
       "2    0.0    0.0   0.0  \n",
       "3    0.0    0.0   0.0  \n",
       "4    0.0    0.0   0.0  \n",
       "\n",
       "[5 rows x 1000 columns]"
      ]
     },
     "execution_count": 35,
     "metadata": {},
     "output_type": "execute_result"
    }
   ],
   "source": [
    "vect = TfidfVectorizer(max_features = 1000, \n",
    "                       ngram_range = (1, 1),\n",
    "                       stop_words = ENGLISH_STOP_WORDS, \n",
    "                       token_pattern = r'\\b[^\\d\\W][^\\d\\W]+\\b')\n",
    "vect.fit(df.clean_text)\n",
    "X = vect.transform(df.clean_text)\n",
    "\n",
    "# transform the resulting sparse matrix into an array\n",
    "my_array = X.toarray()\n",
    "\n",
    "# back to df, assign column names\n",
    "X_df = pd.DataFrame(my_array, columns = vect.get_feature_names())\n",
    "\n",
    "X_df.head()\n"
   ]
  },
  {
   "cell_type": "markdown",
   "metadata": {},
   "source": [
    "## 5. Machine Learning"
   ]
  },
  {
   "cell_type": "markdown",
   "metadata": {},
   "source": [
    "Here, we will fit a Logistic Regression Model to some part of the data and test its accuracy on the reamining part of our data."
   ]
  },
  {
   "cell_type": "code",
   "execution_count": 36,
   "metadata": {
    "scrolled": true
   },
   "outputs": [
    {
     "name": "stdout",
     "output_type": "stream",
     "text": [
      "accuracy on training set:  0.9133211678832117\n",
      "accuracy on test set:  0.9124087591240876\n",
      "confusion matrix ratios: \n",
      " [[0.         0.08759124]\n",
      " [0.         0.91240876]]\n"
     ]
    },
    {
     "name": "stderr",
     "output_type": "stream",
     "text": [
      "C:\\Users\\My_Laptop\\Anaconda3\\lib\\site-packages\\sklearn\\linear_model\\logistic.py:432: FutureWarning: Default solver will be changed to 'lbfgs' in 0.22. Specify a solver to silence this warning.\n",
      "  FutureWarning)\n"
     ]
    }
   ],
   "source": [
    "y = df.overall\n",
    "\n",
    "X_train, X_test, y_train, y_test = train_test_split(X, y, \n",
    "                                                    test_size = 0.2, \n",
    "                                                    random_state = 123,\n",
    "                                                    stratify = y)\n",
    "\n",
    "logreg = LogisticRegression(penalty = 'l2', C = 1)\n",
    "logreg.fit(X_train, y_train)\n",
    "y_predicted = logreg.predict(X_test)\n",
    "print('accuracy on training set: ', logreg.score(X_train, y_train))\n",
    "print('accuracy on test set: ', accuracy_score(y_test, y_predicted))\n",
    "print('confusion matrix ratios: \\n', confusion_matrix(y_test, y_predicted) / len(y_test))"
   ]
  },
  {
   "cell_type": "markdown",
   "metadata": {},
   "source": [
    "Our Logistic Regression Model had an accuracy score of 0.91."
   ]
  }
 ],
 "metadata": {
  "kernelspec": {
   "display_name": "Python 3",
   "language": "python",
   "name": "python3"
  },
  "language_info": {
   "codemirror_mode": {
    "name": "ipython",
    "version": 3
   },
   "file_extension": ".py",
   "mimetype": "text/x-python",
   "name": "python",
   "nbconvert_exporter": "python",
   "pygments_lexer": "ipython3",
   "version": "3.7.4"
  }
 },
 "nbformat": 4,
 "nbformat_minor": 2
}
