{
 "cells": [
  {
   "cell_type": "markdown",
   "metadata": {},
   "source": [
    "# SENTIMENT ANALYSIS PROJECT"
   ]
  },
  {
   "cell_type": "markdown",
   "metadata": {},
   "source": [
    "## 1. Introduction"
   ]
  },
  {
   "cell_type": "markdown",
   "metadata": {},
   "source": [
    "Here, we are going to analyze the review of beauty products sold at Amazon in 2004-2018. The data is  retrieved from Stanford University SNAP website at link: http://deepx.ucsd.edu/public/jianmo/amazon/categoryFilesSmall/All_Beauty_5.json.gz. We will start with importing necessary libraries and reading the data into a DataFrame."
   ]
  },
  {
   "cell_type": "code",
   "execution_count": 38,
   "metadata": {},
   "outputs": [],
   "source": [
    "# import necessary libraries\n",
    "\n",
    "import pandas as pd\n",
    "import gzip\n",
    "import json\n",
    "\n",
    "import datetime as dt\n",
    "\n",
    "import seaborn as sns\n",
    "import matplotlib.pyplot as plt\n",
    "\n",
    "#import nltk\n",
    "#nltk.download('punkt')\n",
    "#nltk.download('wordnet')\n",
    "\n",
    "from nltk import word_tokenize\n",
    "from nltk.stem import WordNetLemmatizer\n",
    "\n",
    "from wordcloud import WordCloud\n",
    "from sklearn.feature_extraction.text import TfidfVectorizer, ENGLISH_STOP_WORDS\n",
    "\n",
    "from sklearn.linear_model import LogisticRegression\n",
    "from sklearn.model_selection import train_test_split\n",
    "from sklearn.metrics import accuracy_score, confusion_matrix"
   ]
  },
  {
   "cell_type": "code",
   "execution_count": 39,
   "metadata": {},
   "outputs": [],
   "source": [
    "# unzip and read the data into a DataFrame\n",
    "\n",
    "def parse(path):\n",
    "  g = gzip.open(path, 'rb')\n",
    "  for l in g:\n",
    "    yield json.loads(l)\n",
    "\n",
    "def getDF(path):\n",
    "  i = 0\n",
    "  df = {}\n",
    "  for d in parse(path):\n",
    "    df[i] = d\n",
    "    i += 1\n",
    "  return pd.DataFrame.from_dict(df, orient='index')\n",
    "\n",
    "df = getDF('All_Beauty_5.json.gz')"
   ]
  },
  {
   "cell_type": "markdown",
   "metadata": {},
   "source": [
    "## 2. Data Wrangling"
   ]
  },
  {
   "cell_type": "markdown",
   "metadata": {},
   "source": [
    "Let's first check 10 random rows of the dataset."
   ]
  },
  {
   "cell_type": "code",
   "execution_count": 40,
   "metadata": {},
   "outputs": [
    {
     "data": {
      "text/html": [
       "<div>\n",
       "<style scoped>\n",
       "    .dataframe tbody tr th:only-of-type {\n",
       "        vertical-align: middle;\n",
       "    }\n",
       "\n",
       "    .dataframe tbody tr th {\n",
       "        vertical-align: top;\n",
       "    }\n",
       "\n",
       "    .dataframe thead th {\n",
       "        text-align: right;\n",
       "    }\n",
       "</style>\n",
       "<table border=\"1\" class=\"dataframe\">\n",
       "  <thead>\n",
       "    <tr style=\"text-align: right;\">\n",
       "      <th></th>\n",
       "      <th>overall</th>\n",
       "      <th>verified</th>\n",
       "      <th>reviewTime</th>\n",
       "      <th>reviewerID</th>\n",
       "      <th>asin</th>\n",
       "      <th>style</th>\n",
       "      <th>reviewerName</th>\n",
       "      <th>reviewText</th>\n",
       "      <th>summary</th>\n",
       "      <th>unixReviewTime</th>\n",
       "      <th>vote</th>\n",
       "      <th>image</th>\n",
       "    </tr>\n",
       "  </thead>\n",
       "  <tbody>\n",
       "    <tr>\n",
       "      <th>4993</th>\n",
       "      <td>5.0</td>\n",
       "      <td>True</td>\n",
       "      <td>07 19, 2015</td>\n",
       "      <td>A2EM4MVIU5Z0KD</td>\n",
       "      <td>B019809F9Y</td>\n",
       "      <td>{'Size:': ' 3 Ounce'}</td>\n",
       "      <td>jennifer johnson</td>\n",
       "      <td>good</td>\n",
       "      <td>Five Stars</td>\n",
       "      <td>1437264000</td>\n",
       "      <td>NaN</td>\n",
       "      <td>NaN</td>\n",
       "    </tr>\n",
       "    <tr>\n",
       "      <th>4873</th>\n",
       "      <td>5.0</td>\n",
       "      <td>False</td>\n",
       "      <td>09 2, 2017</td>\n",
       "      <td>A2V5R832QCSOMX</td>\n",
       "      <td>B00W259T7G</td>\n",
       "      <td>{'Size:': ' 150 Gram', 'Color:': ' Milk'}</td>\n",
       "      <td>Leanne</td>\n",
       "      <td>I've been buying Pre de Provence items for at ...</td>\n",
       "      <td>Makes a great gift</td>\n",
       "      <td>1504310400</td>\n",
       "      <td>NaN</td>\n",
       "      <td>NaN</td>\n",
       "    </tr>\n",
       "    <tr>\n",
       "      <th>2556</th>\n",
       "      <td>5.0</td>\n",
       "      <td>True</td>\n",
       "      <td>04 4, 2016</td>\n",
       "      <td>A3RTXSWBBPBU15</td>\n",
       "      <td>B0012Y0ZG2</td>\n",
       "      <td>{'Size:': ' 1'}</td>\n",
       "      <td>Moomoo</td>\n",
       "      <td>what can I say my favorite hair product at a g...</td>\n",
       "      <td>Five Stars</td>\n",
       "      <td>1459728000</td>\n",
       "      <td>NaN</td>\n",
       "      <td>NaN</td>\n",
       "    </tr>\n",
       "    <tr>\n",
       "      <th>1821</th>\n",
       "      <td>5.0</td>\n",
       "      <td>True</td>\n",
       "      <td>05 28, 2015</td>\n",
       "      <td>A2S255TZX0IO1X</td>\n",
       "      <td>B000URXP6E</td>\n",
       "      <td>{'Size:': ' 4'}</td>\n",
       "      <td>ShopperForAll</td>\n",
       "      <td>Best sulfate-free shampoo and conditioner ever...</td>\n",
       "      <td>Best sulfate-free shampoo and conditioner ever</td>\n",
       "      <td>1432771200</td>\n",
       "      <td>NaN</td>\n",
       "      <td>NaN</td>\n",
       "    </tr>\n",
       "    <tr>\n",
       "      <th>4232</th>\n",
       "      <td>5.0</td>\n",
       "      <td>True</td>\n",
       "      <td>04 4, 2018</td>\n",
       "      <td>A2KJR83EUJJNAX</td>\n",
       "      <td>B001OHV1H4</td>\n",
       "      <td>{'Size:': ' Shampoo'}</td>\n",
       "      <td>Anyag.</td>\n",
       "      <td>It gets messy after the first few times, but c...</td>\n",
       "      <td>but clears out the head nicely. My son has no ...</td>\n",
       "      <td>1522800000</td>\n",
       "      <td>NaN</td>\n",
       "      <td>NaN</td>\n",
       "    </tr>\n",
       "    <tr>\n",
       "      <th>4675</th>\n",
       "      <td>5.0</td>\n",
       "      <td>True</td>\n",
       "      <td>02 13, 2013</td>\n",
       "      <td>A62S8THB8S60B</td>\n",
       "      <td>B001OHV1H4</td>\n",
       "      <td>{'Size:': ' 174'}</td>\n",
       "      <td>Pete Lim</td>\n",
       "      <td>~BACKGROUND~\\nWe purchased this cape to use wh...</td>\n",
       "      <td>Works as Intended</td>\n",
       "      <td>1360713600</td>\n",
       "      <td>3</td>\n",
       "      <td>NaN</td>\n",
       "    </tr>\n",
       "    <tr>\n",
       "      <th>1013</th>\n",
       "      <td>5.0</td>\n",
       "      <td>True</td>\n",
       "      <td>08 28, 2015</td>\n",
       "      <td>A1LNWQUWXMMZNG</td>\n",
       "      <td>B000FI4S1E</td>\n",
       "      <td>NaN</td>\n",
       "      <td>Katie</td>\n",
       "      <td>I really love this product! The first one that...</td>\n",
       "      <td>Great alternative to a boring loofa!</td>\n",
       "      <td>1440720000</td>\n",
       "      <td>NaN</td>\n",
       "      <td>NaN</td>\n",
       "    </tr>\n",
       "    <tr>\n",
       "      <th>5194</th>\n",
       "      <td>5.0</td>\n",
       "      <td>True</td>\n",
       "      <td>01 17, 2017</td>\n",
       "      <td>AT2F2DJ7RELJI</td>\n",
       "      <td>B00IJHY54S</td>\n",
       "      <td>NaN</td>\n",
       "      <td>Mary Beadles</td>\n",
       "      <td>These are great!  They smell wonderful; they f...</td>\n",
       "      <td>These are great! They smell wonderful</td>\n",
       "      <td>1484611200</td>\n",
       "      <td>NaN</td>\n",
       "      <td>NaN</td>\n",
       "    </tr>\n",
       "    <tr>\n",
       "      <th>2268</th>\n",
       "      <td>5.0</td>\n",
       "      <td>True</td>\n",
       "      <td>04 12, 2018</td>\n",
       "      <td>A85ENSL5HBBZF</td>\n",
       "      <td>B0012Y0ZG2</td>\n",
       "      <td>{'Size:': ' Multiset'}</td>\n",
       "      <td>nancy mccarthy</td>\n",
       "      <td>100% natural and organic and performes much be...</td>\n",
       "      <td>Met all my expectations</td>\n",
       "      <td>1523491200</td>\n",
       "      <td>15</td>\n",
       "      <td>[https://images-na.ssl-images-amazon.com/image...</td>\n",
       "    </tr>\n",
       "    <tr>\n",
       "      <th>3560</th>\n",
       "      <td>5.0</td>\n",
       "      <td>True</td>\n",
       "      <td>03 16, 2016</td>\n",
       "      <td>A10P0NAKKRYKTZ</td>\n",
       "      <td>B0012Y0ZG2</td>\n",
       "      <td>{'Size:': ' 97'}</td>\n",
       "      <td>Amazon Customer</td>\n",
       "      <td>Fantastic shower gel. Not only lathers well bu...</td>\n",
       "      <td>Five Stars</td>\n",
       "      <td>1458086400</td>\n",
       "      <td>NaN</td>\n",
       "      <td>NaN</td>\n",
       "    </tr>\n",
       "  </tbody>\n",
       "</table>\n",
       "</div>"
      ],
      "text/plain": [
       "      overall  verified   reviewTime      reviewerID        asin  \\\n",
       "4993      5.0      True  07 19, 2015  A2EM4MVIU5Z0KD  B019809F9Y   \n",
       "4873      5.0     False   09 2, 2017  A2V5R832QCSOMX  B00W259T7G   \n",
       "2556      5.0      True   04 4, 2016  A3RTXSWBBPBU15  B0012Y0ZG2   \n",
       "1821      5.0      True  05 28, 2015  A2S255TZX0IO1X  B000URXP6E   \n",
       "4232      5.0      True   04 4, 2018  A2KJR83EUJJNAX  B001OHV1H4   \n",
       "4675      5.0      True  02 13, 2013   A62S8THB8S60B  B001OHV1H4   \n",
       "1013      5.0      True  08 28, 2015  A1LNWQUWXMMZNG  B000FI4S1E   \n",
       "5194      5.0      True  01 17, 2017   AT2F2DJ7RELJI  B00IJHY54S   \n",
       "2268      5.0      True  04 12, 2018   A85ENSL5HBBZF  B0012Y0ZG2   \n",
       "3560      5.0      True  03 16, 2016  A10P0NAKKRYKTZ  B0012Y0ZG2   \n",
       "\n",
       "                                          style      reviewerName  \\\n",
       "4993                      {'Size:': ' 3 Ounce'}  jennifer johnson   \n",
       "4873  {'Size:': ' 150 Gram', 'Color:': ' Milk'}            Leanne   \n",
       "2556                            {'Size:': ' 1'}            Moomoo   \n",
       "1821                            {'Size:': ' 4'}     ShopperForAll   \n",
       "4232                      {'Size:': ' Shampoo'}            Anyag.   \n",
       "4675                          {'Size:': ' 174'}          Pete Lim   \n",
       "1013                                        NaN             Katie   \n",
       "5194                                        NaN      Mary Beadles   \n",
       "2268                     {'Size:': ' Multiset'}    nancy mccarthy   \n",
       "3560                           {'Size:': ' 97'}   Amazon Customer   \n",
       "\n",
       "                                             reviewText  \\\n",
       "4993                                               good   \n",
       "4873  I've been buying Pre de Provence items for at ...   \n",
       "2556  what can I say my favorite hair product at a g...   \n",
       "1821  Best sulfate-free shampoo and conditioner ever...   \n",
       "4232  It gets messy after the first few times, but c...   \n",
       "4675  ~BACKGROUND~\\nWe purchased this cape to use wh...   \n",
       "1013  I really love this product! The first one that...   \n",
       "5194  These are great!  They smell wonderful; they f...   \n",
       "2268  100% natural and organic and performes much be...   \n",
       "3560  Fantastic shower gel. Not only lathers well bu...   \n",
       "\n",
       "                                                summary  unixReviewTime vote  \\\n",
       "4993                                         Five Stars      1437264000  NaN   \n",
       "4873                                 Makes a great gift      1504310400  NaN   \n",
       "2556                                         Five Stars      1459728000  NaN   \n",
       "1821     Best sulfate-free shampoo and conditioner ever      1432771200  NaN   \n",
       "4232  but clears out the head nicely. My son has no ...      1522800000  NaN   \n",
       "4675                                  Works as Intended      1360713600    3   \n",
       "1013               Great alternative to a boring loofa!      1440720000  NaN   \n",
       "5194              These are great! They smell wonderful      1484611200  NaN   \n",
       "2268                            Met all my expectations      1523491200   15   \n",
       "3560                                         Five Stars      1458086400  NaN   \n",
       "\n",
       "                                                  image  \n",
       "4993                                                NaN  \n",
       "4873                                                NaN  \n",
       "2556                                                NaN  \n",
       "1821                                                NaN  \n",
       "4232                                                NaN  \n",
       "4675                                                NaN  \n",
       "1013                                                NaN  \n",
       "5194                                                NaN  \n",
       "2268  [https://images-na.ssl-images-amazon.com/image...  \n",
       "3560                                                NaN  "
      ]
     },
     "execution_count": 40,
     "metadata": {},
     "output_type": "execute_result"
    }
   ],
   "source": [
    "df.sample(10)"
   ]
  },
  {
   "cell_type": "markdown",
   "metadata": {},
   "source": [
    "We will get some more information with the info method."
   ]
  },
  {
   "cell_type": "code",
   "execution_count": 41,
   "metadata": {},
   "outputs": [
    {
     "name": "stdout",
     "output_type": "stream",
     "text": [
      "<class 'pandas.core.frame.DataFrame'>\n",
      "Int64Index: 5269 entries, 0 to 5268\n",
      "Data columns (total 12 columns):\n",
      "overall           5269 non-null float64\n",
      "verified          5269 non-null bool\n",
      "reviewTime        5269 non-null object\n",
      "reviewerID        5269 non-null object\n",
      "asin              5269 non-null object\n",
      "style             4624 non-null object\n",
      "reviewerName      5269 non-null object\n",
      "reviewText        5264 non-null object\n",
      "summary           5264 non-null object\n",
      "unixReviewTime    5269 non-null int64\n",
      "vote              552 non-null object\n",
      "image             98 non-null object\n",
      "dtypes: bool(1), float64(1), int64(1), object(9)\n",
      "memory usage: 499.1+ KB\n"
     ]
    }
   ],
   "source": [
    "df.info()"
   ]
  },
  {
   "cell_type": "markdown",
   "metadata": {},
   "source": [
    "There are 5269 rows and 12 columns in the dataset. We have 9 columns of datatype string, 2 numerical columns and a column of datatype boolean. Columns 'style', 'summary', 'vote' and 'image' have missing values. The columns are:\n",
    "\n",
    "1. overall - rating of the product\n",
    "2. verified - no explanation at source\n",
    "3. reviewTime - time of the review (raw)\n",
    "4. reviewerID - ID of the reviewer, e.g. A2SUAM1J3GNN3B\n",
    "5. asin - ID of the product, e.g. 0000013714\n",
    "6. style - a disctionary of the product metadata, e.g., \"Format\" is \"Hardcover\"\n",
    "7. reviewerName - name of the reviewer\n",
    "8. reviewText - text of the review\n",
    "9. summary - summary of the review\n",
    "10. unixReviewTime - time of the review (unix time)\n",
    "11. vote - helpful votes of the review\n",
    "12. image - no explanation at source\n",
    "\n",
    "Let's see how many entries are missing from each column:"
   ]
  },
  {
   "cell_type": "code",
   "execution_count": 42,
   "metadata": {},
   "outputs": [
    {
     "data": {
      "text/plain": [
       "overall              0\n",
       "verified             0\n",
       "reviewTime           0\n",
       "reviewerID           0\n",
       "asin                 0\n",
       "style              645\n",
       "reviewerName         0\n",
       "reviewText           5\n",
       "summary              5\n",
       "unixReviewTime       0\n",
       "vote              4717\n",
       "image             5171\n",
       "dtype: int64"
      ]
     },
     "execution_count": 42,
     "metadata": {},
     "output_type": "execute_result"
    }
   ],
   "source": [
    "df.isnull().sum()"
   ]
  },
  {
   "cell_type": "markdown",
   "metadata": {},
   "source": [
    "We will check if column names have any white spaces that will interfere with our analysis:"
   ]
  },
  {
   "cell_type": "code",
   "execution_count": 43,
   "metadata": {},
   "outputs": [
    {
     "data": {
      "text/plain": [
       "Index(['overall', 'verified', 'reviewTime', 'reviewerID', 'asin', 'style',\n",
       "       'reviewerName', 'reviewText', 'summary', 'unixReviewTime', 'vote',\n",
       "       'image'],\n",
       "      dtype='object')"
      ]
     },
     "execution_count": 43,
     "metadata": {},
     "output_type": "execute_result"
    }
   ],
   "source": [
    "df.columns"
   ]
  },
  {
   "cell_type": "markdown",
   "metadata": {},
   "source": [
    "Column names don't have any white spaces. We will first drop 'vote' and 'image' columns since most of their values are missing. Further, the 'verified' column doesn't provide any useful information for our analysis. We are not interested in the 'reviewerName' and we have a 'reviewerID' column to track the reviewers. Similarly, we don't need the 'style' column since we have the 'asin' column to track the products. So, we will also drop the columns 'verified', 'reviewerName' and 'style'."
   ]
  },
  {
   "cell_type": "code",
   "execution_count": 44,
   "metadata": {},
   "outputs": [
    {
     "data": {
      "text/html": [
       "<div>\n",
       "<style scoped>\n",
       "    .dataframe tbody tr th:only-of-type {\n",
       "        vertical-align: middle;\n",
       "    }\n",
       "\n",
       "    .dataframe tbody tr th {\n",
       "        vertical-align: top;\n",
       "    }\n",
       "\n",
       "    .dataframe thead th {\n",
       "        text-align: right;\n",
       "    }\n",
       "</style>\n",
       "<table border=\"1\" class=\"dataframe\">\n",
       "  <thead>\n",
       "    <tr style=\"text-align: right;\">\n",
       "      <th></th>\n",
       "      <th>overall</th>\n",
       "      <th>reviewTime</th>\n",
       "      <th>reviewerID</th>\n",
       "      <th>asin</th>\n",
       "      <th>reviewText</th>\n",
       "      <th>summary</th>\n",
       "      <th>unixReviewTime</th>\n",
       "    </tr>\n",
       "  </thead>\n",
       "  <tbody>\n",
       "    <tr>\n",
       "      <th>0</th>\n",
       "      <td>5.0</td>\n",
       "      <td>09 1, 2016</td>\n",
       "      <td>A3CIUOJXQ5VDQ2</td>\n",
       "      <td>B0000530HU</td>\n",
       "      <td>As advertised. Reasonably priced</td>\n",
       "      <td>Five Stars</td>\n",
       "      <td>1472688000</td>\n",
       "    </tr>\n",
       "    <tr>\n",
       "      <th>1</th>\n",
       "      <td>5.0</td>\n",
       "      <td>11 14, 2013</td>\n",
       "      <td>A3H7T87S984REU</td>\n",
       "      <td>B0000530HU</td>\n",
       "      <td>Like the oder and the feel when I put it on my...</td>\n",
       "      <td>Good for the face</td>\n",
       "      <td>1384387200</td>\n",
       "    </tr>\n",
       "    <tr>\n",
       "      <th>2</th>\n",
       "      <td>1.0</td>\n",
       "      <td>08 18, 2013</td>\n",
       "      <td>A3J034YH7UG4KT</td>\n",
       "      <td>B0000530HU</td>\n",
       "      <td>I bought this to smell nice after I shave.  Wh...</td>\n",
       "      <td>Smells awful</td>\n",
       "      <td>1376784000</td>\n",
       "    </tr>\n",
       "    <tr>\n",
       "      <th>3</th>\n",
       "      <td>5.0</td>\n",
       "      <td>05 3, 2011</td>\n",
       "      <td>A2UEO5XR3598GI</td>\n",
       "      <td>B0000530HU</td>\n",
       "      <td>HEY!! I am an Aqua Velva Man and absolutely lo...</td>\n",
       "      <td>Truth is There IS Nothing Like an AQUA VELVA MAN.</td>\n",
       "      <td>1304380800</td>\n",
       "    </tr>\n",
       "    <tr>\n",
       "      <th>4</th>\n",
       "      <td>5.0</td>\n",
       "      <td>05 6, 2011</td>\n",
       "      <td>A3SFRT223XXWF7</td>\n",
       "      <td>B00006L9LC</td>\n",
       "      <td>If you ever want to feel pampered by a shampoo...</td>\n",
       "      <td>Bvlgari Shampoo</td>\n",
       "      <td>1304640000</td>\n",
       "    </tr>\n",
       "  </tbody>\n",
       "</table>\n",
       "</div>"
      ],
      "text/plain": [
       "   overall   reviewTime      reviewerID        asin  \\\n",
       "0      5.0   09 1, 2016  A3CIUOJXQ5VDQ2  B0000530HU   \n",
       "1      5.0  11 14, 2013  A3H7T87S984REU  B0000530HU   \n",
       "2      1.0  08 18, 2013  A3J034YH7UG4KT  B0000530HU   \n",
       "3      5.0   05 3, 2011  A2UEO5XR3598GI  B0000530HU   \n",
       "4      5.0   05 6, 2011  A3SFRT223XXWF7  B00006L9LC   \n",
       "\n",
       "                                          reviewText  \\\n",
       "0                   As advertised. Reasonably priced   \n",
       "1  Like the oder and the feel when I put it on my...   \n",
       "2  I bought this to smell nice after I shave.  Wh...   \n",
       "3  HEY!! I am an Aqua Velva Man and absolutely lo...   \n",
       "4  If you ever want to feel pampered by a shampoo...   \n",
       "\n",
       "                                             summary  unixReviewTime  \n",
       "0                                         Five Stars      1472688000  \n",
       "1                                  Good for the face      1384387200  \n",
       "2                                       Smells awful      1376784000  \n",
       "3  Truth is There IS Nothing Like an AQUA VELVA MAN.      1304380800  \n",
       "4                                    Bvlgari Shampoo      1304640000  "
      ]
     },
     "execution_count": 44,
     "metadata": {},
     "output_type": "execute_result"
    }
   ],
   "source": [
    "df.drop(['vote', 'image', 'verified', 'reviewerName', 'style'], axis = 1, inplace = True)\n",
    "\n",
    "# check the first rows of the new DataFrame\n",
    "df.head()"
   ]
  },
  {
   "cell_type": "markdown",
   "metadata": {},
   "source": [
    "We will combine two string columns into one: 'summary and reviewText'. We will fill the missing values with an empty string so that we can keep the value of one column if the other has a missing value. "
   ]
  },
  {
   "cell_type": "code",
   "execution_count": 45,
   "metadata": {},
   "outputs": [
    {
     "data": {
      "text/plain": [
       "\"If you ever want to feel pampered by a shampoo this one is the one.  It smells like a wonderful perfume and cleans your hair until it shines plus adding a fullness that most other shampoo's don't give you.  It is expensive, but worth it! Bvlgari Shampoo\""
      ]
     },
     "execution_count": 45,
     "metadata": {},
     "output_type": "execute_result"
    }
   ],
   "source": [
    "df['reviewText'] = df['reviewText'].fillna('') + ' ' + df['summary'].fillna('')\n",
    "\n",
    "#check the 5th row of 'reviewText' so that we can compare with the table above \n",
    "df['reviewText'][4]\n"
   ]
  },
  {
   "cell_type": "markdown",
   "metadata": {},
   "source": [
    "Let's check if the 'reviewText' column still has any missing values after combining with 'summary'. "
   ]
  },
  {
   "cell_type": "code",
   "execution_count": 46,
   "metadata": {},
   "outputs": [
    {
     "data": {
      "text/plain": [
       "0"
      ]
     },
     "execution_count": 46,
     "metadata": {},
     "output_type": "execute_result"
    }
   ],
   "source": [
    "df['reviewText'].isnull().sum()"
   ]
  },
  {
   "cell_type": "markdown",
   "metadata": {},
   "source": [
    "We were able to fill in the missing values of the two columns with each other because the missing values were at different rows. Now, let's convert 'reviewTime' to datetime object to have a more 'user-friendly' column."
   ]
  },
  {
   "cell_type": "code",
   "execution_count": 47,
   "metadata": {},
   "outputs": [
    {
     "data": {
      "text/html": [
       "<div>\n",
       "<style scoped>\n",
       "    .dataframe tbody tr th:only-of-type {\n",
       "        vertical-align: middle;\n",
       "    }\n",
       "\n",
       "    .dataframe tbody tr th {\n",
       "        vertical-align: top;\n",
       "    }\n",
       "\n",
       "    .dataframe thead th {\n",
       "        text-align: right;\n",
       "    }\n",
       "</style>\n",
       "<table border=\"1\" class=\"dataframe\">\n",
       "  <thead>\n",
       "    <tr style=\"text-align: right;\">\n",
       "      <th></th>\n",
       "      <th>overall</th>\n",
       "      <th>reviewTime</th>\n",
       "      <th>reviewerID</th>\n",
       "      <th>asin</th>\n",
       "      <th>reviewText</th>\n",
       "      <th>summary</th>\n",
       "      <th>unixReviewTime</th>\n",
       "    </tr>\n",
       "  </thead>\n",
       "  <tbody>\n",
       "    <tr>\n",
       "      <th>5181</th>\n",
       "      <td>5.0</td>\n",
       "      <td>2014-09-13</td>\n",
       "      <td>A3R9H6OKZHHRJD</td>\n",
       "      <td>B00EYZY6LQ</td>\n",
       "      <td>I was very pleasantly surprised by this condit...</td>\n",
       "      <td>Works better than expected</td>\n",
       "      <td>1410566400</td>\n",
       "    </tr>\n",
       "    <tr>\n",
       "      <th>3249</th>\n",
       "      <td>4.0</td>\n",
       "      <td>2018-04-19</td>\n",
       "      <td>AV19Z8ZCIQM4G</td>\n",
       "      <td>B0012Y0ZG2</td>\n",
       "      <td>Good but kind of drying Four Stars</td>\n",
       "      <td>Four Stars</td>\n",
       "      <td>1524096000</td>\n",
       "    </tr>\n",
       "    <tr>\n",
       "      <th>2185</th>\n",
       "      <td>2.0</td>\n",
       "      <td>2017-09-16</td>\n",
       "      <td>A1XCSAX4BRT89Y</td>\n",
       "      <td>B0010ZBORW</td>\n",
       "      <td>This foot file is pretty much just an oversize...</td>\n",
       "      <td>Foot file:  Low-end and ineffective</td>\n",
       "      <td>1505520000</td>\n",
       "    </tr>\n",
       "    <tr>\n",
       "      <th>2387</th>\n",
       "      <td>5.0</td>\n",
       "      <td>2017-01-31</td>\n",
       "      <td>AQN8A38PJ8V41</td>\n",
       "      <td>B0012Y0ZG2</td>\n",
       "      <td>Highly recommend Five Stars</td>\n",
       "      <td>Five Stars</td>\n",
       "      <td>1485820800</td>\n",
       "    </tr>\n",
       "    <tr>\n",
       "      <th>3709</th>\n",
       "      <td>5.0</td>\n",
       "      <td>2015-07-14</td>\n",
       "      <td>A1UDB6NF2GI5KF</td>\n",
       "      <td>B0012Y0ZG2</td>\n",
       "      <td>too bad this  is discontinued Five Stars</td>\n",
       "      <td>Five Stars</td>\n",
       "      <td>1436832000</td>\n",
       "    </tr>\n",
       "  </tbody>\n",
       "</table>\n",
       "</div>"
      ],
      "text/plain": [
       "      overall reviewTime      reviewerID        asin  \\\n",
       "5181      5.0 2014-09-13  A3R9H6OKZHHRJD  B00EYZY6LQ   \n",
       "3249      4.0 2018-04-19   AV19Z8ZCIQM4G  B0012Y0ZG2   \n",
       "2185      2.0 2017-09-16  A1XCSAX4BRT89Y  B0010ZBORW   \n",
       "2387      5.0 2017-01-31   AQN8A38PJ8V41  B0012Y0ZG2   \n",
       "3709      5.0 2015-07-14  A1UDB6NF2GI5KF  B0012Y0ZG2   \n",
       "\n",
       "                                             reviewText  \\\n",
       "5181  I was very pleasantly surprised by this condit...   \n",
       "3249                 Good but kind of drying Four Stars   \n",
       "2185  This foot file is pretty much just an oversize...   \n",
       "2387                        Highly recommend Five Stars   \n",
       "3709           too bad this  is discontinued Five Stars   \n",
       "\n",
       "                                  summary  unixReviewTime  \n",
       "5181           Works better than expected      1410566400  \n",
       "3249                           Four Stars      1524096000  \n",
       "2185  Foot file:  Low-end and ineffective      1505520000  \n",
       "2387                           Five Stars      1485820800  \n",
       "3709                           Five Stars      1436832000  "
      ]
     },
     "execution_count": 47,
     "metadata": {},
     "output_type": "execute_result"
    }
   ],
   "source": [
    "df['reviewTime'] = pd.to_datetime(df['reviewTime'])\n",
    "\n",
    "# check random 5 rows to see the new 'reviewTime'\n",
    "df.sample(5)"
   ]
  },
  {
   "cell_type": "markdown",
   "metadata": {},
   "source": [
    "Now that we added the column 'summary' to the column 'reviewText' and have a more 'user-friendly' time column, we can also drop the redundant columns 'summary' and 'unixReviewTime'. "
   ]
  },
  {
   "cell_type": "code",
   "execution_count": 48,
   "metadata": {},
   "outputs": [
    {
     "data": {
      "text/html": [
       "<div>\n",
       "<style scoped>\n",
       "    .dataframe tbody tr th:only-of-type {\n",
       "        vertical-align: middle;\n",
       "    }\n",
       "\n",
       "    .dataframe tbody tr th {\n",
       "        vertical-align: top;\n",
       "    }\n",
       "\n",
       "    .dataframe thead th {\n",
       "        text-align: right;\n",
       "    }\n",
       "</style>\n",
       "<table border=\"1\" class=\"dataframe\">\n",
       "  <thead>\n",
       "    <tr style=\"text-align: right;\">\n",
       "      <th></th>\n",
       "      <th>overall</th>\n",
       "      <th>reviewTime</th>\n",
       "      <th>reviewerID</th>\n",
       "      <th>asin</th>\n",
       "      <th>reviewText</th>\n",
       "    </tr>\n",
       "  </thead>\n",
       "  <tbody>\n",
       "    <tr>\n",
       "      <th>0</th>\n",
       "      <td>5.0</td>\n",
       "      <td>2016-09-01</td>\n",
       "      <td>A3CIUOJXQ5VDQ2</td>\n",
       "      <td>B0000530HU</td>\n",
       "      <td>As advertised. Reasonably priced Five Stars</td>\n",
       "    </tr>\n",
       "    <tr>\n",
       "      <th>1</th>\n",
       "      <td>5.0</td>\n",
       "      <td>2013-11-14</td>\n",
       "      <td>A3H7T87S984REU</td>\n",
       "      <td>B0000530HU</td>\n",
       "      <td>Like the oder and the feel when I put it on my...</td>\n",
       "    </tr>\n",
       "    <tr>\n",
       "      <th>2</th>\n",
       "      <td>1.0</td>\n",
       "      <td>2013-08-18</td>\n",
       "      <td>A3J034YH7UG4KT</td>\n",
       "      <td>B0000530HU</td>\n",
       "      <td>I bought this to smell nice after I shave.  Wh...</td>\n",
       "    </tr>\n",
       "    <tr>\n",
       "      <th>3</th>\n",
       "      <td>5.0</td>\n",
       "      <td>2011-05-03</td>\n",
       "      <td>A2UEO5XR3598GI</td>\n",
       "      <td>B0000530HU</td>\n",
       "      <td>HEY!! I am an Aqua Velva Man and absolutely lo...</td>\n",
       "    </tr>\n",
       "    <tr>\n",
       "      <th>4</th>\n",
       "      <td>5.0</td>\n",
       "      <td>2011-05-06</td>\n",
       "      <td>A3SFRT223XXWF7</td>\n",
       "      <td>B00006L9LC</td>\n",
       "      <td>If you ever want to feel pampered by a shampoo...</td>\n",
       "    </tr>\n",
       "  </tbody>\n",
       "</table>\n",
       "</div>"
      ],
      "text/plain": [
       "   overall reviewTime      reviewerID        asin  \\\n",
       "0      5.0 2016-09-01  A3CIUOJXQ5VDQ2  B0000530HU   \n",
       "1      5.0 2013-11-14  A3H7T87S984REU  B0000530HU   \n",
       "2      1.0 2013-08-18  A3J034YH7UG4KT  B0000530HU   \n",
       "3      5.0 2011-05-03  A2UEO5XR3598GI  B0000530HU   \n",
       "4      5.0 2011-05-06  A3SFRT223XXWF7  B00006L9LC   \n",
       "\n",
       "                                          reviewText  \n",
       "0        As advertised. Reasonably priced Five Stars  \n",
       "1  Like the oder and the feel when I put it on my...  \n",
       "2  I bought this to smell nice after I shave.  Wh...  \n",
       "3  HEY!! I am an Aqua Velva Man and absolutely lo...  \n",
       "4  If you ever want to feel pampered by a shampoo...  "
      ]
     },
     "execution_count": 48,
     "metadata": {},
     "output_type": "execute_result"
    }
   ],
   "source": [
    "df.drop(['summary', 'unixReviewTime'], axis = 1, inplace = True)\n",
    "df.head()"
   ]
  },
  {
   "cell_type": "markdown",
   "metadata": {},
   "source": [
    "Let's see if we have any duplicates:"
   ]
  },
  {
   "cell_type": "code",
   "execution_count": 49,
   "metadata": {},
   "outputs": [
    {
     "data": {
      "text/plain": [
       "overall       2047\n",
       "reviewTime    2047\n",
       "reviewerID    2047\n",
       "asin          2047\n",
       "reviewText    2047\n",
       "dtype: int64"
      ]
     },
     "execution_count": 49,
     "metadata": {},
     "output_type": "execute_result"
    }
   ],
   "source": [
    "df[df.duplicated(keep=False)].count()"
   ]
  },
  {
   "cell_type": "markdown",
   "metadata": {},
   "source": [
    "We are going to drop the duplicates."
   ]
  },
  {
   "cell_type": "code",
   "execution_count": 50,
   "metadata": {},
   "outputs": [
    {
     "name": "stdout",
     "output_type": "stream",
     "text": [
      "<class 'pandas.core.frame.DataFrame'>\n",
      "Int64Index: 4219 entries, 0 to 5268\n",
      "Data columns (total 5 columns):\n",
      "overall       4219 non-null float64\n",
      "reviewTime    4219 non-null datetime64[ns]\n",
      "reviewerID    4219 non-null object\n",
      "asin          4219 non-null object\n",
      "reviewText    4219 non-null object\n",
      "dtypes: datetime64[ns](1), float64(1), object(3)\n",
      "memory usage: 197.8+ KB\n"
     ]
    }
   ],
   "source": [
    "df.drop_duplicates(inplace = True)\n",
    "\n",
    "# check to see how many rows left\n",
    "df.info()"
   ]
  },
  {
   "cell_type": "markdown",
   "metadata": {},
   "source": [
    "Here, we will check the unique number of features."
   ]
  },
  {
   "cell_type": "code",
   "execution_count": 51,
   "metadata": {
    "scrolled": true
   },
   "outputs": [
    {
     "name": "stdout",
     "output_type": "stream",
     "text": [
      "The total number of reviewers is: 991\n",
      "The total number of unique reviews is: 1370\n",
      "The total number of reiewed products is: 85\n",
      "The total number of review days is: 883\n",
      "The total number of reviews is: 4219\n"
     ]
    }
   ],
   "source": [
    "print('The total number of reviewers is: {}'. format(df.reviewerID.nunique()))\n",
    "print('The total number of unique reviews is: {}'. format(df.reviewText.nunique()))\n",
    "print('The total number of reiewed products is: {}'. format(df.asin.nunique()))\n",
    "print('The total number of review days is: {}'. format(df.reviewTime.nunique()))\n",
    "print('The total number of reviews is: {}'. format(len(df)))"
   ]
  },
  {
   "cell_type": "markdown",
   "metadata": {},
   "source": [
    "991 unique customers wrote 1370 unique reviews for 85 products in 883 unique days."
   ]
  },
  {
   "cell_type": "markdown",
   "metadata": {},
   "source": [
    "We are going to drop the rows with duplicate reviews."
   ]
  },
  {
   "cell_type": "code",
   "execution_count": 52,
   "metadata": {},
   "outputs": [],
   "source": [
    "df.drop_duplicates(subset='reviewText', keep='first', inplace=True)"
   ]
  },
  {
   "cell_type": "code",
   "execution_count": 53,
   "metadata": {},
   "outputs": [
    {
     "name": "stdout",
     "output_type": "stream",
     "text": [
      "<class 'pandas.core.frame.DataFrame'>\n",
      "Int64Index: 1370 entries, 0 to 5268\n",
      "Data columns (total 5 columns):\n",
      "overall       1370 non-null float64\n",
      "reviewTime    1370 non-null datetime64[ns]\n",
      "reviewerID    1370 non-null object\n",
      "asin          1370 non-null object\n",
      "reviewText    1370 non-null object\n",
      "dtypes: datetime64[ns](1), float64(1), object(3)\n",
      "memory usage: 64.2+ KB\n"
     ]
    }
   ],
   "source": [
    "# check the remaining DataFrame\n",
    "df.info()"
   ]
  },
  {
   "cell_type": "markdown",
   "metadata": {},
   "source": [
    "Now, let's check the summary statistics of the ratings in 'overall' column:"
   ]
  },
  {
   "cell_type": "code",
   "execution_count": 54,
   "metadata": {},
   "outputs": [
    {
     "data": {
      "text/html": [
       "<div>\n",
       "<style scoped>\n",
       "    .dataframe tbody tr th:only-of-type {\n",
       "        vertical-align: middle;\n",
       "    }\n",
       "\n",
       "    .dataframe tbody tr th {\n",
       "        vertical-align: top;\n",
       "    }\n",
       "\n",
       "    .dataframe thead th {\n",
       "        text-align: right;\n",
       "    }\n",
       "</style>\n",
       "<table border=\"1\" class=\"dataframe\">\n",
       "  <thead>\n",
       "    <tr style=\"text-align: right;\">\n",
       "      <th></th>\n",
       "      <th>overall</th>\n",
       "    </tr>\n",
       "  </thead>\n",
       "  <tbody>\n",
       "    <tr>\n",
       "      <th>count</th>\n",
       "      <td>1370.000000</td>\n",
       "    </tr>\n",
       "    <tr>\n",
       "      <th>mean</th>\n",
       "      <td>4.647445</td>\n",
       "    </tr>\n",
       "    <tr>\n",
       "      <th>std</th>\n",
       "      <td>0.837714</td>\n",
       "    </tr>\n",
       "    <tr>\n",
       "      <th>min</th>\n",
       "      <td>1.000000</td>\n",
       "    </tr>\n",
       "    <tr>\n",
       "      <th>25%</th>\n",
       "      <td>5.000000</td>\n",
       "    </tr>\n",
       "    <tr>\n",
       "      <th>50%</th>\n",
       "      <td>5.000000</td>\n",
       "    </tr>\n",
       "    <tr>\n",
       "      <th>75%</th>\n",
       "      <td>5.000000</td>\n",
       "    </tr>\n",
       "    <tr>\n",
       "      <th>max</th>\n",
       "      <td>5.000000</td>\n",
       "    </tr>\n",
       "  </tbody>\n",
       "</table>\n",
       "</div>"
      ],
      "text/plain": [
       "           overall\n",
       "count  1370.000000\n",
       "mean      4.647445\n",
       "std       0.837714\n",
       "min       1.000000\n",
       "25%       5.000000\n",
       "50%       5.000000\n",
       "75%       5.000000\n",
       "max       5.000000"
      ]
     },
     "execution_count": 54,
     "metadata": {},
     "output_type": "execute_result"
    }
   ],
   "source": [
    "df.describe()"
   ]
  },
  {
   "cell_type": "markdown",
   "metadata": {},
   "source": [
    "The standard deviation is 0.84 and the mean is 4.65. Over 5.0, 4.65 is quite a good average."
   ]
  },
  {
   "cell_type": "markdown",
   "metadata": {},
   "source": [
    "## 3. EDA"
   ]
  },
  {
   "cell_type": "markdown",
   "metadata": {},
   "source": [
    "Here, we will do an Exploratory Data Analysis. We will look at the features."
   ]
  },
  {
   "cell_type": "markdown",
   "metadata": {},
   "source": [
    "### a. 'reviewTime'"
   ]
  },
  {
   "cell_type": "code",
   "execution_count": 55,
   "metadata": {},
   "outputs": [
    {
     "name": "stdout",
     "output_type": "stream",
     "text": [
      "2004-09-21 00:00:00 - 2018-08-23 00:00:00\n"
     ]
    }
   ],
   "source": [
    "# check the dates covered\n",
    "print(df['reviewTime'].min(), '-', df['reviewTime'].max())"
   ]
  },
  {
   "cell_type": "markdown",
   "metadata": {},
   "source": [
    "The data covers the period between September 2004 and August 2018. Here is the plot of number of reviews by year:"
   ]
  },
  {
   "cell_type": "code",
   "execution_count": 56,
   "metadata": {},
   "outputs": [
    {
     "data": {
      "image/png": "[encoded data removed]",
      "text/plain": [
       "<Figure size 432x288 with 1 Axes>"
      ]
     },
     "metadata": {
      "needs_background": "light"
     },
     "output_type": "display_data"
    }
   ],
   "source": [
    "df['reviewYear'] = df.reviewTime.dt.year\n",
    "yr = df.reviewYear.value_counts()\n",
    "yr_figure = sns.barplot(x = yr.index, y = yr.values)\n",
    "yr_figure.set(title = 'Number of Reviews by Year')\n",
    "yr_figure.set(xlabel = 'Years')\n",
    "yr_figure.set(ylabel = 'Number of Reviews')\n",
    "yr_figure.set_xticklabels(yr_figure.get_xticklabels(), rotation=45, horizontalalignment='right')\n",
    "plt.show()"
   ]
  },
  {
   "cell_type": "markdown",
   "metadata": {},
   "source": [
    "The number of reviews increased generally and reached the maximum in 2017. The 2018 data covers the period until August 23. There is a huge leap from 2012 to 2013."
   ]
  },
  {
   "cell_type": "markdown",
   "metadata": {},
   "source": [
    "### b. 'overall'"
   ]
  },
  {
   "cell_type": "code",
   "execution_count": 57,
   "metadata": {
    "scrolled": false
   },
   "outputs": [
    {
     "data": {
      "text/plain": [
       "5.0    1095\n",
       "4.0     153\n",
       "3.0      66\n",
       "1.0      30\n",
       "2.0      26\n",
       "Name: overall, dtype: int64"
      ]
     },
     "execution_count": 57,
     "metadata": {},
     "output_type": "execute_result"
    }
   ],
   "source": [
    "# check the values of 'overall'\n",
    "df.overall.value_counts()"
   ]
  },
  {
   "cell_type": "markdown",
   "metadata": {},
   "source": [
    "Let's see it in a plot."
   ]
  },
  {
   "cell_type": "code",
   "execution_count": 58,
   "metadata": {},
   "outputs": [
    {
     "data": {
      "image/png": "[encoded data removed]",
      "text/plain": [
       "<Figure size 432x288 with 1 Axes>"
      ]
     },
     "metadata": {
      "needs_background": "light"
     },
     "output_type": "display_data"
    }
   ],
   "source": [
    "ov = df.overall.value_counts()\n",
    "my_figure = sns.barplot(x = ov.index, y = ov.values)\n",
    "my_figure.set(title = 'Ratings Plot')\n",
    "my_figure.set(xlabel = 'Ratings')\n",
    "my_figure.set(ylabel = 'Value counts')\n",
    "plt.show()"
   ]
  },
  {
   "cell_type": "markdown",
   "metadata": {},
   "source": [
    "Most of the ratings are 5.0."
   ]
  },
  {
   "cell_type": "markdown",
   "metadata": {},
   "source": [
    "We will categorize 'overall' values > 3 as 1 and 'overall' values <= 3 as 0 to do a binary classification. "
   ]
  },
  {
   "cell_type": "code",
   "execution_count": 59,
   "metadata": {},
   "outputs": [
    {
     "data": {
      "text/html": [
       "<div>\n",
       "<style scoped>\n",
       "    .dataframe tbody tr th:only-of-type {\n",
       "        vertical-align: middle;\n",
       "    }\n",
       "\n",
       "    .dataframe tbody tr th {\n",
       "        vertical-align: top;\n",
       "    }\n",
       "\n",
       "    .dataframe thead th {\n",
       "        text-align: right;\n",
       "    }\n",
       "</style>\n",
       "<table border=\"1\" class=\"dataframe\">\n",
       "  <thead>\n",
       "    <tr style=\"text-align: right;\">\n",
       "      <th></th>\n",
       "      <th>overall</th>\n",
       "      <th>reviewTime</th>\n",
       "      <th>reviewerID</th>\n",
       "      <th>asin</th>\n",
       "      <th>reviewText</th>\n",
       "      <th>reviewYear</th>\n",
       "    </tr>\n",
       "  </thead>\n",
       "  <tbody>\n",
       "    <tr>\n",
       "      <th>0</th>\n",
       "      <td>1</td>\n",
       "      <td>2016-09-01</td>\n",
       "      <td>A3CIUOJXQ5VDQ2</td>\n",
       "      <td>B0000530HU</td>\n",
       "      <td>As advertised. Reasonably priced Five Stars</td>\n",
       "      <td>2016</td>\n",
       "    </tr>\n",
       "    <tr>\n",
       "      <th>1</th>\n",
       "      <td>1</td>\n",
       "      <td>2013-11-14</td>\n",
       "      <td>A3H7T87S984REU</td>\n",
       "      <td>B0000530HU</td>\n",
       "      <td>Like the oder and the feel when I put it on my...</td>\n",
       "      <td>2013</td>\n",
       "    </tr>\n",
       "    <tr>\n",
       "      <th>2</th>\n",
       "      <td>0</td>\n",
       "      <td>2013-08-18</td>\n",
       "      <td>A3J034YH7UG4KT</td>\n",
       "      <td>B0000530HU</td>\n",
       "      <td>I bought this to smell nice after I shave.  Wh...</td>\n",
       "      <td>2013</td>\n",
       "    </tr>\n",
       "    <tr>\n",
       "      <th>3</th>\n",
       "      <td>1</td>\n",
       "      <td>2011-05-03</td>\n",
       "      <td>A2UEO5XR3598GI</td>\n",
       "      <td>B0000530HU</td>\n",
       "      <td>HEY!! I am an Aqua Velva Man and absolutely lo...</td>\n",
       "      <td>2011</td>\n",
       "    </tr>\n",
       "    <tr>\n",
       "      <th>4</th>\n",
       "      <td>1</td>\n",
       "      <td>2011-05-06</td>\n",
       "      <td>A3SFRT223XXWF7</td>\n",
       "      <td>B00006L9LC</td>\n",
       "      <td>If you ever want to feel pampered by a shampoo...</td>\n",
       "      <td>2011</td>\n",
       "    </tr>\n",
       "  </tbody>\n",
       "</table>\n",
       "</div>"
      ],
      "text/plain": [
       "   overall reviewTime      reviewerID        asin  \\\n",
       "0        1 2016-09-01  A3CIUOJXQ5VDQ2  B0000530HU   \n",
       "1        1 2013-11-14  A3H7T87S984REU  B0000530HU   \n",
       "2        0 2013-08-18  A3J034YH7UG4KT  B0000530HU   \n",
       "3        1 2011-05-03  A2UEO5XR3598GI  B0000530HU   \n",
       "4        1 2011-05-06  A3SFRT223XXWF7  B00006L9LC   \n",
       "\n",
       "                                          reviewText  reviewYear  \n",
       "0        As advertised. Reasonably priced Five Stars        2016  \n",
       "1  Like the oder and the feel when I put it on my...        2013  \n",
       "2  I bought this to smell nice after I shave.  Wh...        2013  \n",
       "3  HEY!! I am an Aqua Velva Man and absolutely lo...        2011  \n",
       "4  If you ever want to feel pampered by a shampoo...        2011  "
      ]
     },
     "execution_count": 59,
     "metadata": {},
     "output_type": "execute_result"
    }
   ],
   "source": [
    "df['overall'] = df['overall'].apply(lambda x: 1 if x > 3 else 0)\n",
    "df.head()"
   ]
  },
  {
   "cell_type": "code",
   "execution_count": 60,
   "metadata": {},
   "outputs": [
    {
     "data": {
      "text/plain": [
       "1    0.910949\n",
       "0    0.089051\n",
       "Name: overall, dtype: float64"
      ]
     },
     "execution_count": 60,
     "metadata": {},
     "output_type": "execute_result"
    }
   ],
   "source": [
    "# check the values of 'overall' as a fraction\n",
    "df.overall.value_counts() / len(df.overall)"
   ]
  },
  {
   "cell_type": "code",
   "execution_count": 61,
   "metadata": {},
   "outputs": [
    {
     "data": {
      "image/png": "[encoded data removed]",
      "text/plain": [
       "<Figure size 432x288 with 1 Axes>"
      ]
     },
     "metadata": {
      "needs_background": "light"
     },
     "output_type": "display_data"
    }
   ],
   "source": [
    "# see the new plot\n",
    "ov = df.overall.value_counts()\n",
    "new_figure = sns.barplot(x = ov.index, y = ov.values)\n",
    "new_figure.set(title = 'New Ratings Plot')\n",
    "new_figure.set(xlabel = 'New Ratings')\n",
    "new_figure.set(ylabel = 'New Value Counts')\n",
    "plt.show()"
   ]
  },
  {
   "cell_type": "markdown",
   "metadata": {},
   "source": [
    "A pie plot will provide a better visualization of the new rating ratios:"
   ]
  },
  {
   "cell_type": "code",
   "execution_count": 62,
   "metadata": {},
   "outputs": [
    {
     "data": {
      "image/png": "[encoded data removed]",
      "text/plain": [
       "<Figure size 432x432 with 1 Axes>"
      ]
     },
     "metadata": {},
     "output_type": "display_data"
    }
   ],
   "source": [
    "df['overall'].value_counts().plot.pie(autopct='%.0f', fontsize=16, figsize=(6, 6))\n",
    "plt.title('New Rating Pie Plot')\n",
    "plt.show()"
   ]
  },
  {
   "cell_type": "markdown",
   "metadata": {},
   "source": [
    "91% of the reviews are positive."
   ]
  },
  {
   "cell_type": "markdown",
   "metadata": {},
   "source": [
    "Here, we are going to look at the yearly ratio of positive reviews."
   ]
  },
  {
   "cell_type": "code",
   "execution_count": 63,
   "metadata": {},
   "outputs": [
    {
     "data": {
      "text/html": [
       "<div>\n",
       "<style scoped>\n",
       "    .dataframe tbody tr th:only-of-type {\n",
       "        vertical-align: middle;\n",
       "    }\n",
       "\n",
       "    .dataframe tbody tr th {\n",
       "        vertical-align: top;\n",
       "    }\n",
       "\n",
       "    .dataframe thead th {\n",
       "        text-align: right;\n",
       "    }\n",
       "</style>\n",
       "<table border=\"1\" class=\"dataframe\">\n",
       "  <thead>\n",
       "    <tr style=\"text-align: right;\">\n",
       "      <th></th>\n",
       "      <th>Year</th>\n",
       "      <th>Number_Total_Reviews</th>\n",
       "      <th>Number_Positive_Reviews</th>\n",
       "      <th>Ratio_Positive_Reviews</th>\n",
       "    </tr>\n",
       "  </thead>\n",
       "  <tbody>\n",
       "    <tr>\n",
       "      <th>0</th>\n",
       "      <td>2004</td>\n",
       "      <td>1</td>\n",
       "      <td>1</td>\n",
       "      <td>1.000000</td>\n",
       "    </tr>\n",
       "    <tr>\n",
       "      <th>1</th>\n",
       "      <td>2005</td>\n",
       "      <td>1</td>\n",
       "      <td>1</td>\n",
       "      <td>1.000000</td>\n",
       "    </tr>\n",
       "    <tr>\n",
       "      <th>2</th>\n",
       "      <td>2006</td>\n",
       "      <td>1</td>\n",
       "      <td>1</td>\n",
       "      <td>1.000000</td>\n",
       "    </tr>\n",
       "    <tr>\n",
       "      <th>3</th>\n",
       "      <td>2007</td>\n",
       "      <td>10</td>\n",
       "      <td>7</td>\n",
       "      <td>0.700000</td>\n",
       "    </tr>\n",
       "    <tr>\n",
       "      <th>4</th>\n",
       "      <td>2008</td>\n",
       "      <td>13</td>\n",
       "      <td>3</td>\n",
       "      <td>0.230769</td>\n",
       "    </tr>\n",
       "    <tr>\n",
       "      <th>5</th>\n",
       "      <td>2009</td>\n",
       "      <td>9</td>\n",
       "      <td>7</td>\n",
       "      <td>0.777778</td>\n",
       "    </tr>\n",
       "    <tr>\n",
       "      <th>6</th>\n",
       "      <td>2010</td>\n",
       "      <td>1</td>\n",
       "      <td>1</td>\n",
       "      <td>1.000000</td>\n",
       "    </tr>\n",
       "    <tr>\n",
       "      <th>7</th>\n",
       "      <td>2011</td>\n",
       "      <td>7</td>\n",
       "      <td>5</td>\n",
       "      <td>0.714286</td>\n",
       "    </tr>\n",
       "    <tr>\n",
       "      <th>8</th>\n",
       "      <td>2012</td>\n",
       "      <td>23</td>\n",
       "      <td>22</td>\n",
       "      <td>0.956522</td>\n",
       "    </tr>\n",
       "    <tr>\n",
       "      <th>9</th>\n",
       "      <td>2013</td>\n",
       "      <td>204</td>\n",
       "      <td>181</td>\n",
       "      <td>0.887255</td>\n",
       "    </tr>\n",
       "    <tr>\n",
       "      <th>10</th>\n",
       "      <td>2014</td>\n",
       "      <td>196</td>\n",
       "      <td>185</td>\n",
       "      <td>0.943878</td>\n",
       "    </tr>\n",
       "    <tr>\n",
       "      <th>11</th>\n",
       "      <td>2015</td>\n",
       "      <td>231</td>\n",
       "      <td>226</td>\n",
       "      <td>0.978355</td>\n",
       "    </tr>\n",
       "    <tr>\n",
       "      <th>12</th>\n",
       "      <td>2016</td>\n",
       "      <td>255</td>\n",
       "      <td>252</td>\n",
       "      <td>0.988235</td>\n",
       "    </tr>\n",
       "    <tr>\n",
       "      <th>13</th>\n",
       "      <td>2017</td>\n",
       "      <td>301</td>\n",
       "      <td>272</td>\n",
       "      <td>0.903654</td>\n",
       "    </tr>\n",
       "    <tr>\n",
       "      <th>14</th>\n",
       "      <td>2018</td>\n",
       "      <td>117</td>\n",
       "      <td>84</td>\n",
       "      <td>0.717949</td>\n",
       "    </tr>\n",
       "  </tbody>\n",
       "</table>\n",
       "</div>"
      ],
      "text/plain": [
       "    Year  Number_Total_Reviews  Number_Positive_Reviews  \\\n",
       "0   2004                     1                        1   \n",
       "1   2005                     1                        1   \n",
       "2   2006                     1                        1   \n",
       "3   2007                    10                        7   \n",
       "4   2008                    13                        3   \n",
       "5   2009                     9                        7   \n",
       "6   2010                     1                        1   \n",
       "7   2011                     7                        5   \n",
       "8   2012                    23                       22   \n",
       "9   2013                   204                      181   \n",
       "10  2014                   196                      185   \n",
       "11  2015                   231                      226   \n",
       "12  2016                   255                      252   \n",
       "13  2017                   301                      272   \n",
       "14  2018                   117                       84   \n",
       "\n",
       "    Ratio_Positive_Reviews  \n",
       "0                 1.000000  \n",
       "1                 1.000000  \n",
       "2                 1.000000  \n",
       "3                 0.700000  \n",
       "4                 0.230769  \n",
       "5                 0.777778  \n",
       "6                 1.000000  \n",
       "7                 0.714286  \n",
       "8                 0.956522  \n",
       "9                 0.887255  \n",
       "10                0.943878  \n",
       "11                0.978355  \n",
       "12                0.988235  \n",
       "13                0.903654  \n",
       "14                0.717949  "
      ]
     },
     "execution_count": 63,
     "metadata": {},
     "output_type": "execute_result"
    }
   ],
   "source": [
    "reviews_by_year = df.groupby(['reviewYear']).agg({'overall':['size', 'sum']})\n",
    "reviews_by_year.columns = [' '.join(col).strip() for col in reviews_by_year.columns.values]\n",
    "reviews_by_year = reviews_by_year.reset_index()\n",
    "reviews_by_year['% of Positive Review'] = [x/y for x,y in zip(reviews_by_year['overall sum'], \n",
    "                                                              reviews_by_year['overall size'])]\n",
    "reviews_by_year.columns = ['Year', 'Number_Total_Reviews', 'Number_Positive_Reviews', \n",
    "                       'Ratio_Positive_Reviews']\n",
    "reviews_by_year"
   ]
  },
  {
   "cell_type": "markdown",
   "metadata": {},
   "source": [
    "Let's see this in a plot."
   ]
  },
  {
   "cell_type": "code",
   "execution_count": 64,
   "metadata": {},
   "outputs": [
    {
     "data": {
      "image/png": "[encoded data removed]",
      "text/plain": [
       "<Figure size 432x288 with 1 Axes>"
      ]
     },
     "metadata": {
      "needs_background": "light"
     },
     "output_type": "display_data"
    }
   ],
   "source": [
    "ratio_figure = sns.barplot(x = reviews_by_year.Year.values, \n",
    "                         y = reviews_by_year.Ratio_Positive_Reviews.values)\n",
    "ratio_figure.set(title = 'Positive Review Ratio by Year')\n",
    "ratio_figure.set(xlabel = 'Years')\n",
    "ratio_figure.set(ylabel = 'Positive Review Ratio')\n",
    "ratio_figure.set_xticklabels(yr_figure.get_xticklabels(), \n",
    "                             rotation=45, horizontalalignment='right')\n",
    "plt.show()"
   ]
  },
  {
   "cell_type": "markdown",
   "metadata": {},
   "source": [
    "There is a minimum 23% in 2008. Year 2018 until August is also not too high with 72% positive reviews."
   ]
  },
  {
   "cell_type": "markdown",
   "metadata": {},
   "source": [
    "### c. 'reviewerID'"
   ]
  },
  {
   "cell_type": "markdown",
   "metadata": {},
   "source": [
    "Let's see if some customers write more reviews:"
   ]
  },
  {
   "cell_type": "code",
   "execution_count": 65,
   "metadata": {},
   "outputs": [
    {
     "data": {
      "text/plain": [
       "AUX122XW8ONG6     11\n",
       "A1UQBFCERIP7VJ    10\n",
       "A11QGZ39A7ZF0X    10\n",
       "A22CW0ZHY3NJH8     8\n",
       "A1EGCED01USBA9     8\n",
       "Name: reviewerID, dtype: int64"
      ]
     },
     "execution_count": 65,
     "metadata": {},
     "output_type": "execute_result"
    }
   ],
   "source": [
    "df['reviewerID'].value_counts().head()"
   ]
  },
  {
   "cell_type": "markdown",
   "metadata": {},
   "source": [
    "There are customers who provide valuable feedback by writing more reviews. It would be beneficial to keep track of these customers."
   ]
  },
  {
   "cell_type": "markdown",
   "metadata": {},
   "source": [
    "### d. 'asin'"
   ]
  },
  {
   "cell_type": "markdown",
   "metadata": {},
   "source": [
    "Now, we are going to check if some products get more reviews."
   ]
  },
  {
   "cell_type": "code",
   "execution_count": 66,
   "metadata": {},
   "outputs": [
    {
     "data": {
      "text/plain": [
       "B00006L9LC    475\n",
       "B0009RF9DW    378\n",
       "B00W259T7G    127\n",
       "B0010ZBORW     49\n",
       "B001LNODUS     32\n",
       "B01E7UKR38     23\n",
       "B01DLR9IDI     21\n",
       "B0013NB7DW     18\n",
       "B00DY59MB6     18\n",
       "B000URXP6E     16\n",
       "Name: asin, dtype: int64"
      ]
     },
     "execution_count": 66,
     "metadata": {},
     "output_type": "execute_result"
    }
   ],
   "source": [
    "df['asin'].value_counts().head(10)"
   ]
  },
  {
   "cell_type": "markdown",
   "metadata": {},
   "source": [
    "There are 3 products which were reviewed more than 100 times. It would be beneficial to invest more in these products."
   ]
  },
  {
   "cell_type": "markdown",
   "metadata": {},
   "source": [
    "## 4. NLP"
   ]
  },
  {
   "cell_type": "markdown",
   "metadata": {},
   "source": [
    "First, we are going to check the length of the reviews."
   ]
  },
  {
   "cell_type": "code",
   "execution_count": 67,
   "metadata": {},
   "outputs": [
    {
     "name": "stdout",
     "output_type": "stream",
     "text": [
      "\n",
      " longest review:  5282 \n",
      " shortest review:  9\n"
     ]
    }
   ],
   "source": [
    "length_reviews = df.reviewText.str.len()\n",
    "print('\\n longest review: ', max(length_reviews), '\\n shortest review: ', min(length_reviews))"
   ]
  },
  {
   "cell_type": "markdown",
   "metadata": {},
   "source": [
    "Now, we will tokenize the text."
   ]
  },
  {
   "cell_type": "code",
   "execution_count": 68,
   "metadata": {},
   "outputs": [
    {
     "name": "stdout",
     "output_type": "stream",
     "text": [
      "['As', 'advertised', '.', 'Reasonably', 'priced', 'Five', 'Stars']\n",
      "['Like', 'the', 'oder', 'and', 'the', 'feel', 'when', 'I', 'put', 'it', 'on', 'my', 'face', '.', 'I', 'have', 'tried', 'other', 'brands', 'but', 'the', 'reviews', 'from', 'people', 'I', 'know', 'they', 'prefer', 'the', 'oder', 'of', 'this', 'brand', '.', 'Not', 'hard', 'on', 'the', 'face', 'when', 'dry', '.', 'Does', 'not', 'leave', 'dry', 'skin', '.', 'Good', 'for', 'the', 'face']\n"
     ]
    }
   ],
   "source": [
    "word_tokens = [word_tokenize(review) for review in df.reviewText]\n",
    "\n",
    "# check the resulting tokens\n",
    "print(word_tokens[0])\n",
    "print(word_tokens[1])"
   ]
  },
  {
   "cell_type": "markdown",
   "metadata": {},
   "source": [
    "The piece of code below lemmatizes the tokens."
   ]
  },
  {
   "cell_type": "code",
   "execution_count": 69,
   "metadata": {},
   "outputs": [
    {
     "data": {
      "text/html": [
       "<div>\n",
       "<style scoped>\n",
       "    .dataframe tbody tr th:only-of-type {\n",
       "        vertical-align: middle;\n",
       "    }\n",
       "\n",
       "    .dataframe tbody tr th {\n",
       "        vertical-align: top;\n",
       "    }\n",
       "\n",
       "    .dataframe thead th {\n",
       "        text-align: right;\n",
       "    }\n",
       "</style>\n",
       "<table border=\"1\" class=\"dataframe\">\n",
       "  <thead>\n",
       "    <tr style=\"text-align: right;\">\n",
       "      <th></th>\n",
       "      <th>overall</th>\n",
       "      <th>reviewTime</th>\n",
       "      <th>reviewerID</th>\n",
       "      <th>asin</th>\n",
       "      <th>reviewText</th>\n",
       "      <th>reviewYear</th>\n",
       "      <th>lemmatized_tokens</th>\n",
       "    </tr>\n",
       "  </thead>\n",
       "  <tbody>\n",
       "    <tr>\n",
       "      <th>0</th>\n",
       "      <td>1</td>\n",
       "      <td>2016-09-01</td>\n",
       "      <td>A3CIUOJXQ5VDQ2</td>\n",
       "      <td>B0000530HU</td>\n",
       "      <td>As advertised. Reasonably priced Five Stars</td>\n",
       "      <td>2016</td>\n",
       "      <td>[As, advertised, ., Reasonably, priced, Five, ...</td>\n",
       "    </tr>\n",
       "    <tr>\n",
       "      <th>1</th>\n",
       "      <td>1</td>\n",
       "      <td>2013-11-14</td>\n",
       "      <td>A3H7T87S984REU</td>\n",
       "      <td>B0000530HU</td>\n",
       "      <td>Like the oder and the feel when I put it on my...</td>\n",
       "      <td>2013</td>\n",
       "      <td>[Like, the, oder, and, the, feel, when, I, put...</td>\n",
       "    </tr>\n",
       "    <tr>\n",
       "      <th>2</th>\n",
       "      <td>0</td>\n",
       "      <td>2013-08-18</td>\n",
       "      <td>A3J034YH7UG4KT</td>\n",
       "      <td>B0000530HU</td>\n",
       "      <td>I bought this to smell nice after I shave.  Wh...</td>\n",
       "      <td>2013</td>\n",
       "      <td>[I, bought, this, to, smell, nice, after, I, s...</td>\n",
       "    </tr>\n",
       "    <tr>\n",
       "      <th>3</th>\n",
       "      <td>1</td>\n",
       "      <td>2011-05-03</td>\n",
       "      <td>A2UEO5XR3598GI</td>\n",
       "      <td>B0000530HU</td>\n",
       "      <td>HEY!! I am an Aqua Velva Man and absolutely lo...</td>\n",
       "      <td>2011</td>\n",
       "      <td>[HEY, !, !, I, am, an, Aqua, Velva, Man, and, ...</td>\n",
       "    </tr>\n",
       "    <tr>\n",
       "      <th>4</th>\n",
       "      <td>1</td>\n",
       "      <td>2011-05-06</td>\n",
       "      <td>A3SFRT223XXWF7</td>\n",
       "      <td>B00006L9LC</td>\n",
       "      <td>If you ever want to feel pampered by a shampoo...</td>\n",
       "      <td>2011</td>\n",
       "      <td>[If, you, ever, want, to, feel, pampered, by, ...</td>\n",
       "    </tr>\n",
       "  </tbody>\n",
       "</table>\n",
       "</div>"
      ],
      "text/plain": [
       "   overall reviewTime      reviewerID        asin  \\\n",
       "0        1 2016-09-01  A3CIUOJXQ5VDQ2  B0000530HU   \n",
       "1        1 2013-11-14  A3H7T87S984REU  B0000530HU   \n",
       "2        0 2013-08-18  A3J034YH7UG4KT  B0000530HU   \n",
       "3        1 2011-05-03  A2UEO5XR3598GI  B0000530HU   \n",
       "4        1 2011-05-06  A3SFRT223XXWF7  B00006L9LC   \n",
       "\n",
       "                                          reviewText  reviewYear  \\\n",
       "0        As advertised. Reasonably priced Five Stars        2016   \n",
       "1  Like the oder and the feel when I put it on my...        2013   \n",
       "2  I bought this to smell nice after I shave.  Wh...        2013   \n",
       "3  HEY!! I am an Aqua Velva Man and absolutely lo...        2011   \n",
       "4  If you ever want to feel pampered by a shampoo...        2011   \n",
       "\n",
       "                                   lemmatized_tokens  \n",
       "0  [As, advertised, ., Reasonably, priced, Five, ...  \n",
       "1  [Like, the, oder, and, the, feel, when, I, put...  \n",
       "2  [I, bought, this, to, smell, nice, after, I, s...  \n",
       "3  [HEY, !, !, I, am, an, Aqua, Velva, Man, and, ...  \n",
       "4  [If, you, ever, want, to, feel, pampered, by, ...  "
      ]
     },
     "execution_count": 69,
     "metadata": {},
     "output_type": "execute_result"
    }
   ],
   "source": [
    "WNlemmatizer = WordNetLemmatizer()\n",
    "df['lemmatized_tokens'] = [[WNlemmatizer.lemmatize(token) for token in item] \n",
    "                           for item in word_tokens]\n",
    "df.head()"
   ]
  },
  {
   "cell_type": "markdown",
   "metadata": {},
   "source": [
    "Now, we will plot a word cloud to get a pictorial feel of which words occur the most in the reviews."
   ]
  },
  {
   "cell_type": "code",
   "execution_count": 70,
   "metadata": {},
   "outputs": [
    {
     "data": {
      "image/png": "[encoded data removed]",
      "text/plain": [
       "<Figure size 432x288 with 1 Axes>"
      ]
     },
     "metadata": {
      "needs_background": "light"
     },
     "output_type": "display_data"
    }
   ],
   "source": [
    "%matplotlib inline\n",
    "big_list = ''\n",
    "#big_list = [big_list + row  for row in df.reviewText]\n",
    "big_list = [','.join(row) for row in df.lemmatized_tokens]\n",
    "big_string = ','.join(big_list)\n",
    "\n",
    "my_cloud = WordCloud(background_color = 'white').generate(big_string)\n",
    "plt.imshow(my_cloud, interpolation = 'bilinear')\n",
    "plt.axis('off')\n",
    "plt.show()"
   ]
  },
  {
   "cell_type": "markdown",
   "metadata": {},
   "source": [
    "It's time to prepare the data for machine learning. Now, we will use Tfidf Vectorizer to capture the frequency ratios each word appears in the reviews."
   ]
  },
  {
   "cell_type": "code",
   "execution_count": 71,
   "metadata": {},
   "outputs": [
    {
     "data": {
      "text/html": [
       "<div>\n",
       "<style scoped>\n",
       "    .dataframe tbody tr th:only-of-type {\n",
       "        vertical-align: middle;\n",
       "    }\n",
       "\n",
       "    .dataframe tbody tr th {\n",
       "        vertical-align: top;\n",
       "    }\n",
       "\n",
       "    .dataframe thead th {\n",
       "        text-align: right;\n",
       "    }\n",
       "</style>\n",
       "<table border=\"1\" class=\"dataframe\">\n",
       "  <thead>\n",
       "    <tr style=\"text-align: right;\">\n",
       "      <th></th>\n",
       "      <th>able</th>\n",
       "      <th>absolutely</th>\n",
       "      <th>absorbs</th>\n",
       "      <th>accidentally</th>\n",
       "      <th>acid</th>\n",
       "      <th>active</th>\n",
       "      <th>actual</th>\n",
       "      <th>actually</th>\n",
       "      <th>add</th>\n",
       "      <th>added</th>\n",
       "      <th>...</th>\n",
       "      <th>wow</th>\n",
       "      <th>wrapped</th>\n",
       "      <th>wrinkles</th>\n",
       "      <th>wrong</th>\n",
       "      <th>year</th>\n",
       "      <th>years</th>\n",
       "      <th>yellow</th>\n",
       "      <th>yes</th>\n",
       "      <th>younger</th>\n",
       "      <th>yummy</th>\n",
       "    </tr>\n",
       "  </thead>\n",
       "  <tbody>\n",
       "    <tr>\n",
       "      <th>0</th>\n",
       "      <td>0.0</td>\n",
       "      <td>0.000000</td>\n",
       "      <td>0.0</td>\n",
       "      <td>0.0</td>\n",
       "      <td>0.0</td>\n",
       "      <td>0.0</td>\n",
       "      <td>0.0</td>\n",
       "      <td>0.0</td>\n",
       "      <td>0.0</td>\n",
       "      <td>0.0</td>\n",
       "      <td>...</td>\n",
       "      <td>0.0</td>\n",
       "      <td>0.0</td>\n",
       "      <td>0.0</td>\n",
       "      <td>0.0</td>\n",
       "      <td>0.0</td>\n",
       "      <td>0.000000</td>\n",
       "      <td>0.0</td>\n",
       "      <td>0.0</td>\n",
       "      <td>0.0</td>\n",
       "      <td>0.0</td>\n",
       "    </tr>\n",
       "    <tr>\n",
       "      <th>1</th>\n",
       "      <td>0.0</td>\n",
       "      <td>0.000000</td>\n",
       "      <td>0.0</td>\n",
       "      <td>0.0</td>\n",
       "      <td>0.0</td>\n",
       "      <td>0.0</td>\n",
       "      <td>0.0</td>\n",
       "      <td>0.0</td>\n",
       "      <td>0.0</td>\n",
       "      <td>0.0</td>\n",
       "      <td>...</td>\n",
       "      <td>0.0</td>\n",
       "      <td>0.0</td>\n",
       "      <td>0.0</td>\n",
       "      <td>0.0</td>\n",
       "      <td>0.0</td>\n",
       "      <td>0.000000</td>\n",
       "      <td>0.0</td>\n",
       "      <td>0.0</td>\n",
       "      <td>0.0</td>\n",
       "      <td>0.0</td>\n",
       "    </tr>\n",
       "    <tr>\n",
       "      <th>2</th>\n",
       "      <td>0.0</td>\n",
       "      <td>0.000000</td>\n",
       "      <td>0.0</td>\n",
       "      <td>0.0</td>\n",
       "      <td>0.0</td>\n",
       "      <td>0.0</td>\n",
       "      <td>0.0</td>\n",
       "      <td>0.0</td>\n",
       "      <td>0.0</td>\n",
       "      <td>0.0</td>\n",
       "      <td>...</td>\n",
       "      <td>0.0</td>\n",
       "      <td>0.0</td>\n",
       "      <td>0.0</td>\n",
       "      <td>0.0</td>\n",
       "      <td>0.0</td>\n",
       "      <td>0.000000</td>\n",
       "      <td>0.0</td>\n",
       "      <td>0.0</td>\n",
       "      <td>0.0</td>\n",
       "      <td>0.0</td>\n",
       "    </tr>\n",
       "    <tr>\n",
       "      <th>3</th>\n",
       "      <td>0.0</td>\n",
       "      <td>0.084163</td>\n",
       "      <td>0.0</td>\n",
       "      <td>0.0</td>\n",
       "      <td>0.0</td>\n",
       "      <td>0.0</td>\n",
       "      <td>0.0</td>\n",
       "      <td>0.0</td>\n",
       "      <td>0.0</td>\n",
       "      <td>0.0</td>\n",
       "      <td>...</td>\n",
       "      <td>0.0</td>\n",
       "      <td>0.0</td>\n",
       "      <td>0.0</td>\n",
       "      <td>0.0</td>\n",
       "      <td>0.0</td>\n",
       "      <td>0.128955</td>\n",
       "      <td>0.0</td>\n",
       "      <td>0.0</td>\n",
       "      <td>0.0</td>\n",
       "      <td>0.0</td>\n",
       "    </tr>\n",
       "    <tr>\n",
       "      <th>4</th>\n",
       "      <td>0.0</td>\n",
       "      <td>0.000000</td>\n",
       "      <td>0.0</td>\n",
       "      <td>0.0</td>\n",
       "      <td>0.0</td>\n",
       "      <td>0.0</td>\n",
       "      <td>0.0</td>\n",
       "      <td>0.0</td>\n",
       "      <td>0.0</td>\n",
       "      <td>0.0</td>\n",
       "      <td>...</td>\n",
       "      <td>0.0</td>\n",
       "      <td>0.0</td>\n",
       "      <td>0.0</td>\n",
       "      <td>0.0</td>\n",
       "      <td>0.0</td>\n",
       "      <td>0.000000</td>\n",
       "      <td>0.0</td>\n",
       "      <td>0.0</td>\n",
       "      <td>0.0</td>\n",
       "      <td>0.0</td>\n",
       "    </tr>\n",
       "  </tbody>\n",
       "</table>\n",
       "<p>5 rows × 1000 columns</p>\n",
       "</div>"
      ],
      "text/plain": [
       "   able  absolutely  absorbs  accidentally  acid  active  actual  actually  \\\n",
       "0   0.0    0.000000      0.0           0.0   0.0     0.0     0.0       0.0   \n",
       "1   0.0    0.000000      0.0           0.0   0.0     0.0     0.0       0.0   \n",
       "2   0.0    0.000000      0.0           0.0   0.0     0.0     0.0       0.0   \n",
       "3   0.0    0.084163      0.0           0.0   0.0     0.0     0.0       0.0   \n",
       "4   0.0    0.000000      0.0           0.0   0.0     0.0     0.0       0.0   \n",
       "\n",
       "   add  added  ...  wow  wrapped  wrinkles  wrong  year     years  yellow  \\\n",
       "0  0.0    0.0  ...  0.0      0.0       0.0    0.0   0.0  0.000000     0.0   \n",
       "1  0.0    0.0  ...  0.0      0.0       0.0    0.0   0.0  0.000000     0.0   \n",
       "2  0.0    0.0  ...  0.0      0.0       0.0    0.0   0.0  0.000000     0.0   \n",
       "3  0.0    0.0  ...  0.0      0.0       0.0    0.0   0.0  0.128955     0.0   \n",
       "4  0.0    0.0  ...  0.0      0.0       0.0    0.0   0.0  0.000000     0.0   \n",
       "\n",
       "   yes  younger  yummy  \n",
       "0  0.0      0.0    0.0  \n",
       "1  0.0      0.0    0.0  \n",
       "2  0.0      0.0    0.0  \n",
       "3  0.0      0.0    0.0  \n",
       "4  0.0      0.0    0.0  \n",
       "\n",
       "[5 rows x 1000 columns]"
      ]
     },
     "execution_count": 71,
     "metadata": {},
     "output_type": "execute_result"
    }
   ],
   "source": [
    "vect = TfidfVectorizer(max_features = 1000, \n",
    "                       ngram_range = (1, 1),\n",
    "                       stop_words = ENGLISH_STOP_WORDS, \n",
    "                       token_pattern = r'\\b[^\\d\\W][^\\d\\W]+\\b')\n",
    "vect.fit(df.reviewText)\n",
    "X = vect.transform(df.reviewText)\n",
    "\n",
    "# transform the resulting sparse matrix into an array\n",
    "my_array = X.toarray()\n",
    "\n",
    "# back to df, assign column names\n",
    "X_df = pd.DataFrame(my_array, columns = vect.get_feature_names())\n",
    "\n",
    "X_df.head()\n"
   ]
  },
  {
   "cell_type": "markdown",
   "metadata": {},
   "source": [
    "## 5. Machine Learning"
   ]
  },
  {
   "cell_type": "markdown",
   "metadata": {},
   "source": [
    "Here, we will fit a Logistic Regression Model to some part of the data and test its accuracy on the reamining part of our data."
   ]
  },
  {
   "cell_type": "code",
   "execution_count": 72,
   "metadata": {
    "scrolled": true
   },
   "outputs": [
    {
     "name": "stdout",
     "output_type": "stream",
     "text": [
      "accuracy on training set:  0.9133211678832117\n",
      "accuracy on test set:  0.9124087591240876\n",
      "confusion matrix ratios: \n",
      " [[0.         0.08759124]\n",
      " [0.         0.91240876]]\n"
     ]
    },
    {
     "name": "stderr",
     "output_type": "stream",
     "text": [
      "C:\\Users\\john\\Anaconda3\\lib\\site-packages\\sklearn\\linear_model\\logistic.py:432: FutureWarning: Default solver will be changed to 'lbfgs' in 0.22. Specify a solver to silence this warning.\n",
      "  FutureWarning)\n"
     ]
    }
   ],
   "source": [
    "y = df.overall\n",
    "\n",
    "X_train, X_test, y_train, y_test = train_test_split(X, y, \n",
    "                                                    test_size = 0.2, \n",
    "                                                    random_state = 123,\n",
    "                                                    stratify = y)\n",
    "\n",
    "logreg = LogisticRegression(penalty = 'l2', C = 1)\n",
    "logreg.fit(X_train, y_train)\n",
    "y_predicted = logreg.predict(X_test)\n",
    "print('accuracy on training set: ', logreg.score(X_train, y_train))\n",
    "print('accuracy on test set: ', accuracy_score(y_test, y_predicted))\n",
    "print('confusion matrix ratios: \\n', confusion_matrix(y_test, y_predicted) / len(y_test))"
   ]
  },
  {
   "cell_type": "markdown",
   "metadata": {},
   "source": [
    "Our Logistic Regression Model had an accuracy score of 0.91."
   ]
  }
 ],
 "metadata": {
  "kernelspec": {
   "display_name": "Python 3",
   "language": "python",
   "name": "python3"
  },
  "language_info": {
   "codemirror_mode": {
    "name": "ipython",
    "version": 3
   },
   "file_extension": ".py",
   "mimetype": "text/x-python",
   "name": "python",
   "nbconvert_exporter": "python",
   "pygments_lexer": "ipython3",
   "version": "3.7.5"
  }
 },
 "nbformat": 4,
 "nbformat_minor": 2
}
